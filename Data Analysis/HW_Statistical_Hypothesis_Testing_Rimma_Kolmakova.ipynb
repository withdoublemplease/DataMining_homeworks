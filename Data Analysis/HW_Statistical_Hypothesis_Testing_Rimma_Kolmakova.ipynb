{
  "cells": [
    {
      "cell_type": "markdown",
      "metadata": {
        "id": "NUv1XACHe7zK"
      },
      "source": [
        "# Домашнее Задание №2\n",
        "\n"
      ]
    },
    {
      "cell_type": "markdown",
      "metadata": {
        "id": "Tc2DSNBrDQqS"
      },
      "source": [
        "*Выполнила: Колмакова Римма Павловна БМЭ214*"
      ]
    },
    {
      "cell_type": "markdown",
      "metadata": {
        "id": "HALykPFtX3yt"
      },
      "source": [
        "- Ниже приведены несколько датасетов, их необходимо проанализировать и ответить на определенные вопросы\n",
        "- Для ответа на эти вопросы нужно сделать следующее:\n",
        "   - Сделать хорошую визуализацию исследуемых переменных\n",
        "   - Для каждой из задач подобрать **все подходящие** параметрические и непараметрические критерии, проанализировать результаты этих критериев (тут имеет смысл обернуть все критерии в фунцию или словарь - как удобно)\n",
        "   - Для каждого набора данных проверьте нормальность выборки и допустимость использования параметрических критериев (можно прокомментировать гистограмму и воспользоваться соответствующими критериями согласия)\n",
        "   - Не забудьте оставить краткие комментарии к вашим действиям и сформулировать выводы, которые вы сделали в ходе анализа\n"
      ]
    },
    {
      "cell_type": "markdown",
      "metadata": {
        "id": "uK9wR-UoDQqS"
      },
      "source": [
        "## Связанные выборки"
      ]
    },
    {
      "cell_type": "markdown",
      "metadata": {
        "id": "tRwTUweFXO-F"
      },
      "source": [
        "### seattle\n",
        "В файле seattle.txt записаны цены на недвижимость в одном из районов Сиэтла в 2001 году и в 2002 году (объекты недвижимости выбирались случайно). Изменились ли в среднем цены в этом районе за год?\n"
      ]
    },
    {
      "cell_type": "code",
      "execution_count": null,
      "metadata": {
        "id": "R7pTb_P6DQqT"
      },
      "outputs": [],
      "source": [
        "import pandas as pd\n",
        "import numpy as np\n",
        "\n",
        "from scipy import stats\n",
        "import scipy.stats\n",
        "\n",
        "import matplotlib.pyplot as plt\n",
        "import seaborn as sns"
      ]
    },
    {
      "cell_type": "code",
      "execution_count": null,
      "metadata": {
        "colab": {
          "base_uri": "https://localhost:8080/",
          "height": 202
        },
        "id": "VOIIliUEeqkE",
        "outputId": "4385e026-a7d2-4191-ee81-1527b30106db"
      },
      "outputs": [
        {
          "data": {
            "text/html": [
              "<div>\n",
              "<style scoped>\n",
              "    .dataframe tbody tr th:only-of-type {\n",
              "        vertical-align: middle;\n",
              "    }\n",
              "\n",
              "    .dataframe tbody tr th {\n",
              "        vertical-align: top;\n",
              "    }\n",
              "\n",
              "    .dataframe thead th {\n",
              "        text-align: right;\n",
              "    }\n",
              "</style>\n",
              "<table border=\"1\" class=\"dataframe\">\n",
              "  <thead>\n",
              "    <tr style=\"text-align: right;\">\n",
              "      <th></th>\n",
              "      <th>Price</th>\n",
              "      <th>Year</th>\n",
              "    </tr>\n",
              "  </thead>\n",
              "  <tbody>\n",
              "    <tr>\n",
              "      <th>97</th>\n",
              "      <td>172.0</td>\n",
              "      <td>2001</td>\n",
              "    </tr>\n",
              "    <tr>\n",
              "      <th>46</th>\n",
              "      <td>987.5</td>\n",
              "      <td>2002</td>\n",
              "    </tr>\n",
              "    <tr>\n",
              "      <th>42</th>\n",
              "      <td>290.0</td>\n",
              "      <td>2002</td>\n",
              "    </tr>\n",
              "    <tr>\n",
              "      <th>49</th>\n",
              "      <td>190.0</td>\n",
              "      <td>2002</td>\n",
              "    </tr>\n",
              "    <tr>\n",
              "      <th>87</th>\n",
              "      <td>569.0</td>\n",
              "      <td>2001</td>\n",
              "    </tr>\n",
              "  </tbody>\n",
              "</table>\n",
              "</div>"
            ],
            "text/plain": [
              "    Price  Year\n",
              "97  172.0  2001\n",
              "46  987.5  2002\n",
              "42  290.0  2002\n",
              "49  190.0  2002\n",
              "87  569.0  2001"
            ]
          },
          "execution_count": 2,
          "metadata": {},
          "output_type": "execute_result"
        }
      ],
      "source": [
        "data = pd.read_csv('seattle.txt', sep='\\t')\n",
        "data.sample(5)"
      ]
    },
    {
      "cell_type": "markdown",
      "metadata": {
        "id": "lecHDUDvDQqU"
      },
      "source": [
        "**(1 БАЛЛ)**. Визуализируем значения цен (переменной `Price`) за 2001 и 2002 годы. Постройте несколько графиков (boxplot, violinplot). Сделайте выводы о том, как меняется распределение цены в зависимости от года. Сделайте выводы касательно среднего и дисперсии. Предположите, глядя на графики, изменилась ли цена?"
      ]
    },
    {
      "cell_type": "code",
      "execution_count": null,
      "metadata": {
        "id": "xPXps-BgDQqU",
        "outputId": "3c2cdda1-36ed-44a5-abfb-e23d518b926a"
      },
      "outputs": [
        {
          "data": {
            "image/png": "[encoded data removed]",
            "text/plain": [
              "<Figure size 600x400 with 1 Axes>"
            ]
          },
          "metadata": {},
          "output_type": "display_data"
        }
      ],
      "source": [
        "sns.violinplot(data=data, x=\"Year\", y=\"Price\", palette = [\"b\", \"orange\"], inner=\"quartiles\")\n",
        "fig = plt.gcf()\n",
        "fig.set_size_inches(6, 4)"
      ]
    },
    {
      "cell_type": "code",
      "execution_count": null,
      "metadata": {
        "id": "nQHbfJpYDQqV",
        "outputId": "28ac0397-0595-4dfe-a642-5b1a1d7b34c0"
      },
      "outputs": [
        {
          "data": {
            "text/plain": [
              "<AxesSubplot:xlabel='Year', ylabel='Price'>"
            ]
          },
          "execution_count": 4,
          "metadata": {},
          "output_type": "execute_result"
        },
        {
          "data": {
            "image/png": "[encoded data removed]",
            "text/plain": [
              "<Figure size 640x480 with 1 Axes>"
            ]
          },
          "metadata": {},
          "output_type": "display_data"
        }
      ],
      "source": [
        "sns.boxplot(y = data['Price'], x = data['Year'])"
      ]
    },
    {
      "cell_type": "code",
      "execution_count": null,
      "metadata": {
        "id": "dRNyuiPuDQqV",
        "outputId": "0561a7ef-02bc-425c-966a-f73ed0b04f6e"
      },
      "outputs": [
        {
          "data": {
            "text/html": [
              "<div>\n",
              "<style scoped>\n",
              "    .dataframe tbody tr th:only-of-type {\n",
              "        vertical-align: middle;\n",
              "    }\n",
              "\n",
              "    .dataframe tbody tr th {\n",
              "        vertical-align: top;\n",
              "    }\n",
              "\n",
              "    .dataframe thead th {\n",
              "        text-align: right;\n",
              "    }\n",
              "</style>\n",
              "<table border=\"1\" class=\"dataframe\">\n",
              "  <thead>\n",
              "    <tr style=\"text-align: right;\">\n",
              "      <th></th>\n",
              "      <th>count</th>\n",
              "      <th>mean</th>\n",
              "      <th>std</th>\n",
              "      <th>min</th>\n",
              "      <th>25%</th>\n",
              "      <th>50%</th>\n",
              "      <th>75%</th>\n",
              "      <th>max</th>\n",
              "    </tr>\n",
              "    <tr>\n",
              "      <th>Year</th>\n",
              "      <th></th>\n",
              "      <th></th>\n",
              "      <th></th>\n",
              "      <th></th>\n",
              "      <th></th>\n",
              "      <th></th>\n",
              "      <th></th>\n",
              "      <th></th>\n",
              "    </tr>\n",
              "  </thead>\n",
              "  <tbody>\n",
              "    <tr>\n",
              "      <th>2001</th>\n",
              "      <td>50.0</td>\n",
              "      <td>288.92654</td>\n",
              "      <td>157.777757</td>\n",
              "      <td>50.0</td>\n",
              "      <td>190.25</td>\n",
              "      <td>260.800</td>\n",
              "      <td>406.7375</td>\n",
              "      <td>710.0</td>\n",
              "    </tr>\n",
              "    <tr>\n",
              "      <th>2002</th>\n",
              "      <td>50.0</td>\n",
              "      <td>329.25714</td>\n",
              "      <td>316.830045</td>\n",
              "      <td>50.0</td>\n",
              "      <td>176.20</td>\n",
              "      <td>244.925</td>\n",
              "      <td>328.6250</td>\n",
              "      <td>1850.0</td>\n",
              "    </tr>\n",
              "  </tbody>\n",
              "</table>\n",
              "</div>"
            ],
            "text/plain": [
              "      count       mean         std   min     25%      50%       75%     max\n",
              "Year                                                                       \n",
              "2001   50.0  288.92654  157.777757  50.0  190.25  260.800  406.7375   710.0\n",
              "2002   50.0  329.25714  316.830045  50.0  176.20  244.925  328.6250  1850.0"
            ]
          },
          "execution_count": 5,
          "metadata": {},
          "output_type": "execute_result"
        }
      ],
      "source": [
        "data.groupby(\"Year\")[\"Price\"].describe()"
      ]
    },
    {
      "cell_type": "code",
      "execution_count": null,
      "metadata": {
        "id": "Yujmzjd6DQqV",
        "outputId": "44c4d205-4527-4051-ce7f-710d458795b8"
      },
      "outputs": [
        {
          "data": {
            "text/html": [
              "<div>\n",
              "<style scoped>\n",
              "    .dataframe tbody tr th:only-of-type {\n",
              "        vertical-align: middle;\n",
              "    }\n",
              "\n",
              "    .dataframe tbody tr th {\n",
              "        vertical-align: top;\n",
              "    }\n",
              "\n",
              "    .dataframe thead th {\n",
              "        text-align: right;\n",
              "    }\n",
              "</style>\n",
              "<table border=\"1\" class=\"dataframe\">\n",
              "  <thead>\n",
              "    <tr style=\"text-align: right;\">\n",
              "      <th></th>\n",
              "      <th>Price</th>\n",
              "    </tr>\n",
              "    <tr>\n",
              "      <th>Year</th>\n",
              "      <th></th>\n",
              "    </tr>\n",
              "  </thead>\n",
              "  <tbody>\n",
              "    <tr>\n",
              "      <th>2001</th>\n",
              "      <td>24893.820587</td>\n",
              "    </tr>\n",
              "    <tr>\n",
              "      <th>2002</th>\n",
              "      <td>100381.277553</td>\n",
              "    </tr>\n",
              "  </tbody>\n",
              "</table>\n",
              "</div>"
            ],
            "text/plain": [
              "              Price\n",
              "Year               \n",
              "2001   24893.820587\n",
              "2002  100381.277553"
            ]
          },
          "execution_count": 6,
          "metadata": {},
          "output_type": "execute_result"
        }
      ],
      "source": [
        "pd.DataFrame(data.groupby(\"Year\")[\"Price\"].var())"
      ]
    },
    {
      "cell_type": "markdown",
      "metadata": {
        "id": "IuRjZR_wDQqV"
      },
      "source": [
        "**Выводы по графикам:**\n",
        "\n",
        "1) Сделайте выводы о том, как меняется распределение цены в зависимости от года.\n",
        "- согласно графикам и свойствам дискриптивных статистик, распределение цен в 2002 измененилось относительно 2001: мы видим, что в 2002 появились выбросы, то есть квартиры с очень высокой ценой (точки выше 75% квартиля на графике \"ящик с усами\"), это почти не повлияло на медиану (черта внутри в ящиках), что логично, ведь она устойчива к выбросам.\n",
        "\n",
        "2) Сделайте выводы касательно среднего и дисперсии.\n",
        "- однако среднее неустойчиво к выбросам, и появление их в 2002 году повлияло на значение mean, оно сдвинулось в большую сторону (выросло), аналогичное изменение произошло и с дисперсией - увеличился разбос значений случайной величины (цены квартиры) относительно ее матожидания.\n",
        "\n",
        "3) Предположите, глядя на графики, изменилась ли цена?\n",
        "- если предполагать, что при выборе квартиры люди ориентируются на среднюю цену в районе, то за год произошел рост (подорожание) за счет появления выбросов (экстремально высоких значений на графике), однако о такой тенденции мы можем говорить только в контексте приведенной выборки. Чтобы делать точные предположения, мы должны либо располагать исчерпываюшими данными о ценах на недвижимость в районе Сиэтла за 2 года, либо тестировать гипотезы для проверки статистических утверждений о параметрах и свойствах генеральной совокупности на основе выборочных данных. Первый способ невсегда выполним ввиду ограниченного набора источников информации, закрытых данных или элементарного отсутствия нужной информации, поэтому вариант тестирования гипотез наиболее предпочтим для статистичеких исследований.\n",
        "\n",
        "Переходим к тестированию гипотез.\n",
        "\n",
        "\n"
      ]
    },
    {
      "cell_type": "markdown",
      "metadata": {
        "id": "n5bU9JcUDQqW"
      },
      "source": [
        "**(2 БАЛЛА)**. Сформулируйте нулевую и альтернативную гипотезу. Выберите $\\alpha$. Обоснуйте свой выбор касательно альтернативы (одно- или двусторонняя гипотеза). Выберите критерий, которым Вы будете проверять гипотезу, выпишите его формулу и распределение, которому этот критерий подчиняется при справедливости нулевой гипотезы. Обоснуйте свой выбор."
      ]
    },
    {
      "cell_type": "markdown",
      "metadata": {
        "id": "R8VR3aowDQqW"
      },
      "source": [
        "Мы хотим узнать, изменились ли в среднем цены на недвижимость в выбранном районе в Сиэтле в 2002 относительно 2001. Предположим, что цены в 2002 относительно 2001 года не изменились.\n",
        "Рассмотрим изменение цен на квартиры между 2001 и 2002 годом:\n",
        "\n",
        "$$d_{i\\ }=x_{i}-y_{i}$$\n",
        "\n",
        "\n",
        "Для тестирования гипотезы об отсутствии изменения воспользуемся $t$-тестом, пусть мы допускаем ошибку первого рода **0.05**:\n",
        "\n",
        "$$\n",
        "\\begin{aligned}\n",
        "&H_0: \\hspace{2mm} \\mu_1-\\mu_2 = 0 \\hspace{2mm} \\text{цены в среднем в 2002 не изменились, то есть остались как 2001} \\\\\n",
        "&H_1: \\hspace{2mm}\\mu_1-\\mu_2  \\ne 0 \\hspace{2mm} \\text{есть различия}\n",
        "\\end{aligned}\n",
        "$$\n",
        "\n",
        "Критерий:\n",
        "\n",
        "$$\n",
        "t\\ =\\ \\dfrac{\\bar{d}-0}{\\sqrt{\\dfrac{s^{2}}{n}}}\\sim t\\left(n-1\\right)\n",
        "$$"
      ]
    },
    {
      "cell_type": "markdown",
      "metadata": {
        "id": "IlbraBhaDQqW"
      },
      "source": [
        "**(2 БАЛЛА)** Реализуйте Ваш критерий и сам механизм проверки гипотезы вручную. Сделайте вывод об отвержении или не отвержении гипотезы. Сравните свои результаты со встроенным тестом из пакета scipy.stats (если он там есть)"
      ]
    },
    {
      "cell_type": "code",
      "execution_count": null,
      "metadata": {
        "id": "M0yewdBWDQqW"
      },
      "outputs": [],
      "source": [
        "price_1 = data[data[\"Year\"] == 2001][\"Price\"]\n",
        "price_2 = data[data[\"Year\"] == 2002]['Price']"
      ]
    },
    {
      "cell_type": "code",
      "execution_count": null,
      "metadata": {
        "id": "lm8q-Cu0DQqW"
      },
      "outputs": [],
      "source": [
        "d = np.array(price_2) - np.array(price_1)"
      ]
    },
    {
      "cell_type": "code",
      "execution_count": null,
      "metadata": {
        "id": "4TzfxX3fDQqW",
        "outputId": "fdcdd5b6-489e-4624-e027-70ff1e2dd9c2"
      },
      "outputs": [
        {
          "data": {
            "image/png": "[encoded data removed]",
            "text/plain": [
              "<Figure size 640x480 with 1 Axes>"
            ]
          },
          "metadata": {},
          "output_type": "display_data"
        }
      ],
      "source": [
        "d_mean = d.mean()\n",
        "d_std = d.std(ddof=1)\n",
        "n = d.size\n",
        "\n",
        "plt.hist(d, bins=20, density=True)\n",
        "\n",
        "xs = np.linspace(-12, 12, 300)\n",
        "ys = stats.norm(loc=d_mean, scale=d_std).pdf(xs)\n",
        "plt.show()\n",
        "\n",
        "# Распределение разности оценок схоже c нормальным => можем использовать тестом Стьюдента"
      ]
    },
    {
      "cell_type": "code",
      "execution_count": null,
      "metadata": {
        "id": "ZILLkLbnDQqX",
        "outputId": "dd0a7f40-49b6-44b4-b495-d4f5f9943a72"
      },
      "outputs": [
        {
          "name": "stdout",
          "output_type": "stream",
          "text": [
            "t-наблюдаемое: 0.9054576456583359\n",
            "p-value: 0.369653808711352\n"
          ]
        }
      ],
      "source": [
        "# статистика и p-value \"своими руками\"\n",
        "t_obs = d.mean()/np.sqrt(d.var(ddof=1)/d.size)\n",
        "p_val = 2*(stats.t.cdf(-np.abs(t_obs), d.size-1))\n",
        "\n",
        "print('t-наблюдаемое:', t_obs)\n",
        "print(\"p-value:\", p_val)"
      ]
    },
    {
      "cell_type": "code",
      "execution_count": null,
      "metadata": {
        "id": "OErYpLcODQqX",
        "outputId": "c5846373-69b6-4c66-d4b6-11983f721ebb"
      },
      "outputs": [
        {
          "data": {
            "text/plain": [
              "Ttest_relResult(statistic=-0.9054576456583359, pvalue=0.369653808711352)"
            ]
          },
          "execution_count": 18,
          "metadata": {},
          "output_type": "execute_result"
        }
      ],
      "source": [
        "from scipy.stats import ttest_rel\n",
        "ttest_rel(price_1, price_2)"
      ]
    },
    {
      "cell_type": "markdown",
      "metadata": {
        "id": "q6gg841bDQqX"
      },
      "source": [
        "**Выводы:** основная гипотеза **не отвергается** на уровне значимости 5%, так как **p_value оказалось больше альфы**\n",
        "\n",
        "=> разница между средними оказалась *статистически незначима* для генеральной совокупности:\n",
        "\n",
        "$$\n",
        "\\begin{aligned}\n",
        "&H_0: \\hspace{2mm} \\mu_1-\\mu_2 = 0 \\hspace{2mm} \\text{цены в среднем в 2002 не изменились, то есть остались как 2001} \\\\\n",
        "\\end{aligned}\n",
        "$$\n",
        "\n",
        "Таким образом, в ген. совокупности средние по ценам в 2х годах равны."
      ]
    },
    {
      "cell_type": "markdown",
      "metadata": {
        "id": "HUXUjgxoDQqX"
      },
      "source": [
        "## Несвязанные выборки"
      ]
    },
    {
      "cell_type": "markdown",
      "metadata": {
        "id": "ew4ByKQOXjyD"
      },
      "source": [
        "### mtcars\n",
        "В файле mtcars.csv находятся данные из американского журнала Motor Trend 1974 года. Они описывают расход топлива в зависимости от 10 характеристик автомобиля (все автомобили 1973-1974 года). А именно, в данных вы найдете следующие столбцы:\n",
        "1. mpg — расход топлива (миль/галлон);\n",
        "2. cyl — количество цилиндров мотора;\n",
        "3. disp — объем мотор (куб. дюйм);\n",
        "4. hp — мощность мотора (в лошадиных силах);\n",
        "5. drat — передаточное число редуктора заднего моста;\n",
        "6. wt — вес (тысяч фунтов);\n",
        "7. qsec — время, за которое автомобиль проезжает 1/4 мили;\n",
        "8. vs — тип двигателя (0 = V-образный, 1 = рядный);\n",
        "9. am — тип коробки передач (0 = автоматическая, 1 = ручная);\n",
        "10. gear — количество передних передач;\n",
        "11. carb — количество карбюраторов."
      ]
    },
    {
      "cell_type": "markdown",
      "metadata": {
        "id": "45Ghyb0gDQqY"
      },
      "source": [
        "Мы хотим ответить на следующие вопросы:\n",
        "\n",
        "- Влияет ли тип двигателя на расход топлива?\n",
        "- Влияет ли объем мотора на расход топлива?"
      ]
    },
    {
      "cell_type": "markdown",
      "metadata": {
        "id": "pF86EyuzDQqY"
      },
      "source": [
        "**(1 БАЛЛ)**. Постройте графики для каждого вопроса. Для первого вопроса можете вновь использовать violinplot, но можете подобрать и другой график. Подумайте, какой график подходит для второго вопроса и нарисуйте его. Попробуйте сделать выводы на основе этих графиков (как распределены признаки, их средние и дисперсии)."
      ]
    },
    {
      "cell_type": "code",
      "execution_count": null,
      "metadata": {
        "colab": {
          "base_uri": "https://localhost:8080/",
          "height": 202
        },
        "id": "OqCi07e-XsGv",
        "outputId": "a07743a7-1750-4230-bc51-bfafe58aac86"
      },
      "outputs": [
        {
          "name": "stdout",
          "output_type": "stream",
          "text": [
            "(32, 11)\n"
          ]
        },
        {
          "data": {
            "text/html": [
              "<div>\n",
              "<style scoped>\n",
              "    .dataframe tbody tr th:only-of-type {\n",
              "        vertical-align: middle;\n",
              "    }\n",
              "\n",
              "    .dataframe tbody tr th {\n",
              "        vertical-align: top;\n",
              "    }\n",
              "\n",
              "    .dataframe thead th {\n",
              "        text-align: right;\n",
              "    }\n",
              "</style>\n",
              "<table border=\"1\" class=\"dataframe\">\n",
              "  <thead>\n",
              "    <tr style=\"text-align: right;\">\n",
              "      <th></th>\n",
              "      <th>mpg</th>\n",
              "      <th>cyl</th>\n",
              "      <th>disp</th>\n",
              "      <th>hp</th>\n",
              "      <th>drat</th>\n",
              "      <th>wt</th>\n",
              "      <th>qsec</th>\n",
              "      <th>vs</th>\n",
              "      <th>am</th>\n",
              "      <th>gear</th>\n",
              "      <th>carb</th>\n",
              "    </tr>\n",
              "    <tr>\n",
              "      <th>manufacturer</th>\n",
              "      <th></th>\n",
              "      <th></th>\n",
              "      <th></th>\n",
              "      <th></th>\n",
              "      <th></th>\n",
              "      <th></th>\n",
              "      <th></th>\n",
              "      <th></th>\n",
              "      <th></th>\n",
              "      <th></th>\n",
              "      <th></th>\n",
              "    </tr>\n",
              "  </thead>\n",
              "  <tbody>\n",
              "    <tr>\n",
              "      <th>Fiat X1-9</th>\n",
              "      <td>27.3</td>\n",
              "      <td>4</td>\n",
              "      <td>79.0</td>\n",
              "      <td>66</td>\n",
              "      <td>4.08</td>\n",
              "      <td>1.935</td>\n",
              "      <td>18.90</td>\n",
              "      <td>1</td>\n",
              "      <td>1</td>\n",
              "      <td>4</td>\n",
              "      <td>1</td>\n",
              "    </tr>\n",
              "    <tr>\n",
              "      <th>AMC Javelin</th>\n",
              "      <td>15.2</td>\n",
              "      <td>8</td>\n",
              "      <td>304.0</td>\n",
              "      <td>150</td>\n",
              "      <td>3.15</td>\n",
              "      <td>3.435</td>\n",
              "      <td>17.30</td>\n",
              "      <td>0</td>\n",
              "      <td>0</td>\n",
              "      <td>3</td>\n",
              "      <td>2</td>\n",
              "    </tr>\n",
              "    <tr>\n",
              "      <th>Datsun 710</th>\n",
              "      <td>22.8</td>\n",
              "      <td>4</td>\n",
              "      <td>108.0</td>\n",
              "      <td>93</td>\n",
              "      <td>3.85</td>\n",
              "      <td>2.320</td>\n",
              "      <td>18.61</td>\n",
              "      <td>1</td>\n",
              "      <td>1</td>\n",
              "      <td>4</td>\n",
              "      <td>1</td>\n",
              "    </tr>\n",
              "    <tr>\n",
              "      <th>Merc 450SL</th>\n",
              "      <td>17.3</td>\n",
              "      <td>8</td>\n",
              "      <td>275.8</td>\n",
              "      <td>180</td>\n",
              "      <td>3.07</td>\n",
              "      <td>3.730</td>\n",
              "      <td>17.60</td>\n",
              "      <td>0</td>\n",
              "      <td>0</td>\n",
              "      <td>3</td>\n",
              "      <td>3</td>\n",
              "    </tr>\n",
              "    <tr>\n",
              "      <th>Maserati Bora</th>\n",
              "      <td>15.0</td>\n",
              "      <td>8</td>\n",
              "      <td>301.0</td>\n",
              "      <td>335</td>\n",
              "      <td>3.54</td>\n",
              "      <td>3.570</td>\n",
              "      <td>14.60</td>\n",
              "      <td>0</td>\n",
              "      <td>1</td>\n",
              "      <td>5</td>\n",
              "      <td>8</td>\n",
              "    </tr>\n",
              "  </tbody>\n",
              "</table>\n",
              "</div>"
            ],
            "text/plain": [
              "                mpg  cyl   disp   hp  drat     wt   qsec  vs  am  gear  carb\n",
              "manufacturer                                                                \n",
              "Fiat X1-9      27.3    4   79.0   66  4.08  1.935  18.90   1   1     4     1\n",
              "AMC Javelin    15.2    8  304.0  150  3.15  3.435  17.30   0   0     3     2\n",
              "Datsun 710     22.8    4  108.0   93  3.85  2.320  18.61   1   1     4     1\n",
              "Merc 450SL     17.3    8  275.8  180  3.07  3.730  17.60   0   0     3     3\n",
              "Maserati Bora  15.0    8  301.0  335  3.54  3.570  14.60   0   1     5     8"
            ]
          },
          "execution_count": 5,
          "metadata": {},
          "output_type": "execute_result"
        }
      ],
      "source": [
        "df = pd.read_csv('mtcars.csv', index_col=0)\n",
        "print(df.shape)\n",
        "df.sample(5)"
      ]
    },
    {
      "cell_type": "code",
      "execution_count": null,
      "metadata": {
        "id": "mDBeudK2DQqY",
        "outputId": "9584cf0b-93a0-416b-8b13-65cee774a871"
      },
      "outputs": [
        {
          "data": {
            "text/plain": [
              "Text(0, 0.5, 'расход топлива (миль/галлон)')"
            ]
          },
          "execution_count": 22,
          "metadata": {},
          "output_type": "execute_result"
        },
        {
          "data": {
            "image/png": "[encoded data removed]",
            "text/plain": [
              "<Figure size 800x600 with 1 Axes>"
            ]
          },
          "metadata": {},
          "output_type": "display_data"
        }
      ],
      "source": [
        "df_3 = pd.concat([df['vs'], df['mpg']], axis=1)\n",
        "sns.violinplot(df_3=df_3, x=df_3[\"vs\"], y=df_3[\"mpg\"], palette = [\"b\", \"orange\"], inner=\"quartiles\")\n",
        "fig = plt.gcf()\n",
        "fig.set_size_inches(8, 6)\n",
        "\n",
        "plt.xlabel(\"тип двигателя\")\n",
        "plt.ylabel(\"расход топлива (миль/галлон)\")"
      ]
    },
    {
      "cell_type": "code",
      "execution_count": null,
      "metadata": {
        "id": "Usu_dlLxDQqY",
        "outputId": "79762e8c-4d9c-46a6-efed-8e121e94eff6"
      },
      "outputs": [
        {
          "data": {
            "text/plain": [
              "Text(0, 0.5, 'расход топлива (миль/галлон)')"
            ]
          },
          "execution_count": 21,
          "metadata": {},
          "output_type": "execute_result"
        },
        {
          "data": {
            "image/png": "[encoded data removed]",
            "text/plain": [
              "<Figure size 640x480 with 1 Axes>"
            ]
          },
          "metadata": {},
          "output_type": "display_data"
        }
      ],
      "source": [
        "sns.boxplot(y = df['mpg'], x = df['vs'])\n",
        "plt.xlabel(\"тип двигателя\")\n",
        "plt.ylabel(\"расход топлива (миль/галлон)\")"
      ]
    },
    {
      "cell_type": "code",
      "execution_count": null,
      "metadata": {
        "id": "jdUWOX5uDQqY",
        "outputId": "c0aa286d-b07d-4f29-d753-0e6d1901b312"
      },
      "outputs": [
        {
          "data": {
            "text/plain": [
              "Text(0, 0.5, 'объем мотор (куб. дюйм)')"
            ]
          },
          "execution_count": 10,
          "metadata": {},
          "output_type": "execute_result"
        },
        {
          "data": {
            "image/png": "[encoded data removed]",
            "text/plain": [
              "<Figure size 640x480 with 1 Axes>"
            ]
          },
          "metadata": {},
          "output_type": "display_data"
        }
      ],
      "source": [
        "plt.scatter(df['mpg'], df['disp'], c = \"g\")\n",
        "sns.regplot(x = df['mpg'],\n",
        "            y = df['disp'],\n",
        "            data = df)\n",
        "plt.xlabel(\"расход топлива (миль/галлон)\")\n",
        "plt.ylabel(\"объем мотор (куб. дюйм)\")"
      ]
    },
    {
      "cell_type": "code",
      "execution_count": null,
      "metadata": {
        "id": "J6sIri88DQqZ",
        "outputId": "b68971be-3fcb-4686-9827-dee3bcc10c8c"
      },
      "outputs": [
        {
          "name": "stdout",
          "output_type": "stream",
          "text": [
            "24.557142857142857\n",
            "16.616666666666664\n",
            "28.933406593406588\n",
            "14.904999999999996\n"
          ]
        }
      ],
      "source": [
        "print(df_3[df_3[\"vs\"] == 1]['mpg'].mean())\n",
        "print(df_3[df_3[\"vs\"] == 0]['mpg'].mean())\n",
        "print(df_3[df_3[\"vs\"] == 1]['mpg'].var())\n",
        "print(df_3[df_3[\"vs\"] == 0]['mpg'].var())"
      ]
    },
    {
      "cell_type": "markdown",
      "metadata": {
        "id": "PAvAA_WlDQqZ"
      },
      "source": [
        "**ВЫВОДЫ по графикам:**\n",
        "1. Влияет ли тип двигателя (0 = V-образный, 1 = рядный) на расход топлива (миль/галлон)?\n",
        "- согласно violinplot можно сказать, что первый тип двигателя требует больше топлива, и расход поэтому больше. Минимальное значение для первого двигателя больше (стартует в отрезке от 10 до 15), когда у нулевого (V-образного) оно меньше 10, также значение большей плотности выше у первого по отношение с нулевым.\n",
        "2. Влияет ли объем мотора на расход топлива?\n",
        "- диаграмма рассеивания хорошо описывает характер зависимости одной количественной переменной от другой\n",
        "- по линии тренда можно сказать, что переменные находятся в обратной зависимости, то есть чем меньше объем мотора, тем больше расход топлива, и наоборот, однако такой график не отображает реальной причино-следственной связи между переменными и не говорит насколько сильно переменные связаны.\n",
        "3. Попробуйте сделать выводы на основе этих графиков (как распределены признаки, их средние и дисперсии)\n",
        "- Чтобы сделать выводы касаемо распределения признаков на violinplot можно сравнить форму каждого графика: так график для первого типа двигателя (рядного) имеет две широких области плотности, одна из которых расположена в верхней части, что указывает на достаточно большое количество относительно высоких значений расхода топлива в данных по этому типу двигателя. Более того, по графику видно что дискриптивные статистики (медиана, 25% и 75% квартили) у 2х типов двигателей отличаются => первый тип двигателя (рядной) имеет более высокие показатели по сравнению с нулевым (V-образным). По данным графикам нельзя точно оценить средние и дисперсии, однако можно предположить, что значения средней и дисперсии у рядного будут выше (смещение вверх за счет  наличия высоких значений).\n",
        "\n",
        "- По графику номер 3, диаграмма рассеяния, нельзя точно оценить средние значения признаков и их дисперсии, нужен иной анализ располагаемой выборки наблюдений. Тем не менее можно сделать определенные выводы относительно корреляции между переменными, ссылаясь на степень разброса точек вокруг проведенной прямой. Так, мы имеем нехаотичный характер разброса точек на плоскости, они расположены близко к прямой, что указывает на наличие линейной зависимости между взятыми признаками."
      ]
    },
    {
      "cell_type": "markdown",
      "metadata": {
        "id": "Scx3dgVaDQqZ"
      },
      "source": [
        "**(2 БАЛЛА)**. Реализуйте решение для первого вопроса. Подумайте как можно измерить влияние типа двигателя на расход топлива. Предложите алгоритм и опишите механизм проверки гипотезы в данном задании. Какие должны быть гипотезы? Выберите $\\alpha$. Реализуйте этот алгоритм (статистику и распределение) и вручную проверьте Ваши гипотезы, сделайте вывод. Сверьте Ваш результат со встроенной функцией из модуля scipy.stats (если она есть). Постарайтесь записать гипотезы красиво)"
      ]
    },
    {
      "cell_type": "markdown",
      "metadata": {
        "id": "nt3_LmhqDQqZ"
      },
      "source": [
        "1. Влияет ли тип двигателя на расход топлива? Да, влияет. Докажем это.\n",
        "\n",
        "Мы хотим узнать, есть статистически значимая зависимость между бинарной переменной \"тип двигателя\" и количественной переменной \"расход топлива\", то есть мы хотим проверить гипотезу, что в генеральной совокупности есть линейная связь между переменной расход топлива и тип двигателя. Так как мы имеет дело с одной вещественной переменной, перекодируем ее значения, создав новую бинарную переменную \"расход\", поставив медианное значение расхода топлива в качестве порога.\n",
        "\n",
        "С помощью критерия независимости хи-квадрат (критерий независимости Пирсона) на основании выборки проверим наличие зависимости между двумя признаками в генеральной совокупности. Основная и альтернативная гипотезы таковы:\n",
        "\n",
        "$$\n",
        "\\begin{aligned}\n",
        "&H_0: \\text{в ген. совокупности не существует зависимости между типом двигателя и расходом топлива.} \\\\\n",
        "&H_1: \\text{в ген. совокупности существует зависимость между типом двигателя и расходом топлива.}\n",
        "\\end{aligned}\n",
        "$$\n",
        "\n",
        "Уровень значимости равен 5% (𝛼 = 0.05)."
      ]
    },
    {
      "cell_type": "code",
      "execution_count": null,
      "metadata": {
        "id": "mv9QbDNoDQqZ",
        "outputId": "c05e20b6-6768-486e-eee6-cc7223466948"
      },
      "outputs": [
        {
          "data": {
            "text/html": [
              "<div>\n",
              "<style scoped>\n",
              "    .dataframe tbody tr th:only-of-type {\n",
              "        vertical-align: middle;\n",
              "    }\n",
              "\n",
              "    .dataframe tbody tr th {\n",
              "        vertical-align: top;\n",
              "    }\n",
              "\n",
              "    .dataframe thead th {\n",
              "        text-align: right;\n",
              "    }\n",
              "</style>\n",
              "<table border=\"1\" class=\"dataframe\">\n",
              "  <thead>\n",
              "    <tr style=\"text-align: right;\">\n",
              "      <th>расход</th>\n",
              "      <th>0</th>\n",
              "      <th>1</th>\n",
              "    </tr>\n",
              "    <tr>\n",
              "      <th>vs</th>\n",
              "      <th></th>\n",
              "      <th></th>\n",
              "    </tr>\n",
              "  </thead>\n",
              "  <tbody>\n",
              "    <tr>\n",
              "      <th>0</th>\n",
              "      <td>14</td>\n",
              "      <td>4</td>\n",
              "    </tr>\n",
              "    <tr>\n",
              "      <th>1</th>\n",
              "      <td>3</td>\n",
              "      <td>11</td>\n",
              "    </tr>\n",
              "  </tbody>\n",
              "</table>\n",
              "</div>"
            ],
            "text/plain": [
              "расход   0   1\n",
              "vs            \n",
              "0       14   4\n",
              "1        3  11"
            ]
          },
          "execution_count": 13,
          "metadata": {},
          "output_type": "execute_result"
        }
      ],
      "source": [
        "median = df[\"mpg\"].median()\n",
        "df[\"расход\"] = df[\"mpg\"].apply(lambda x: 1 if x > median else 0)\n",
        "ct_o = df.groupby(\"vs\")[\"расход\"].value_counts().unstack()\n",
        "ct_o"
      ]
    },
    {
      "cell_type": "markdown",
      "metadata": {
        "id": "RyScKOtTDQqZ"
      },
      "source": [
        "По данным полученной таблицы, мы видим, что у \"V-образного\" двигателя (0) расход топлива чаще всего не превышает медианного значения, когда у \"рядного\" (1) превалирующее число наблюдений находится в отрезке от медианного и выше => что говорит о том, целесообразно протестировать гипотезу о том, что в генеральной совокупности пропорции распределения расхода топлива для \"V-образного\" двигателя (не) отличаются от пропорций распределения расхода топлива для \"рядного\".\n",
        "\n",
        "Расчет степеней свободы будет произведен по следующей формуле:\n",
        "\n",
        "$\n",
        "df = {(R–1)*(C–1)}\n",
        "$\n",
        "\n",
        "где R и C — количество рядов и колонок в таблице сопряженности соответственно"
      ]
    },
    {
      "cell_type": "code",
      "execution_count": null,
      "metadata": {
        "id": "UWF1ZqqdDQqZ"
      },
      "outputs": [],
      "source": [
        "dof = (2-1)*(2-1)\n",
        "alpha = 0.05\n",
        "critical_value = 3.84\n",
        "# через таблицу критерия Пирсона, входные данные - число степеней свободы (1) и уровень значимости (0.05)"
      ]
    },
    {
      "cell_type": "markdown",
      "metadata": {
        "id": "gRilLRdzDQqa"
      },
      "source": [
        "Рассчивывать ожидаемые частоты для таблицы сопряженности будем по формуле:\n",
        "\n",
        "$\n",
        "f_e = \\frac{f_cf_r}{n}\n",
        "$\n",
        "\n",
        "где fc - наблюдаемые частоты в ряду, а fr — наблюдаемые частоты в колонке."
      ]
    },
    {
      "cell_type": "code",
      "execution_count": null,
      "metadata": {
        "id": "AWKOoP1HDQqa",
        "outputId": "f350874e-d15e-41d3-8c91-9ac63a8e04c0"
      },
      "outputs": [
        {
          "data": {
            "text/html": [
              "<div>\n",
              "<style scoped>\n",
              "    .dataframe tbody tr th:only-of-type {\n",
              "        vertical-align: middle;\n",
              "    }\n",
              "\n",
              "    .dataframe tbody tr th {\n",
              "        vertical-align: top;\n",
              "    }\n",
              "\n",
              "    .dataframe thead th {\n",
              "        text-align: right;\n",
              "    }\n",
              "</style>\n",
              "<table border=\"1\" class=\"dataframe\">\n",
              "  <thead>\n",
              "    <tr style=\"text-align: right;\">\n",
              "      <th></th>\n",
              "      <th>0</th>\n",
              "      <th>1</th>\n",
              "    </tr>\n",
              "  </thead>\n",
              "  <tbody>\n",
              "    <tr>\n",
              "      <th>0</th>\n",
              "      <td>9.5625</td>\n",
              "      <td>8.4375</td>\n",
              "    </tr>\n",
              "    <tr>\n",
              "      <th>1</th>\n",
              "      <td>7.4375</td>\n",
              "      <td>6.5625</td>\n",
              "    </tr>\n",
              "  </tbody>\n",
              "</table>\n",
              "</div>"
            ],
            "text/plain": [
              "        0       1\n",
              "0  9.5625  8.4375\n",
              "1  7.4375  6.5625"
            ]
          },
          "execution_count": 54,
          "metadata": {},
          "output_type": "execute_result"
        }
      ],
      "source": [
        "vs_0_0 = ct_o[0].sum() * ct_o.iloc[0].sum() / df.shape[0]\n",
        "vs_0_1 = ct_o[1].sum() * ct_o.iloc[0].sum() / df.shape[0]\n",
        "\n",
        "vs_1_0 = ct_o[0].sum() * ct_o.iloc[1].sum() / df.shape[0]\n",
        "vs_1_1 = ct_o[1].sum() * ct_o.iloc[1].sum() / df.shape[0]\n",
        "\n",
        "ct_e = pd.DataFrame(np.array([[vs_0_0, vs_0_1],\n",
        "                 [vs_1_0, vs_1_1]]))\n",
        "ct_e"
      ]
    },
    {
      "cell_type": "code",
      "execution_count": null,
      "metadata": {
        "id": "HbD-dGncDQqe",
        "outputId": "886b46bc-066b-44ec-d055-576da0cb8e91"
      },
      "outputs": [
        {
          "data": {
            "text/plain": [
              "10.04"
            ]
          },
          "execution_count": 55,
          "metadata": {},
          "output_type": "execute_result"
        }
      ],
      "source": [
        "chi_square = round(((ct_o - ct_e)**2 / ct_e).sum().sum(), 2)\n",
        "chi_square"
      ]
    },
    {
      "cell_type": "markdown",
      "metadata": {
        "id": "YwnFoSwrDQqe"
      },
      "source": [
        "Итак, чтобы сделать вывод об отвержении нулевой гипотезы, будем сравнивать найденное значение (chi_square) с границей критической области, посчитанной из таблицы выше (critical_value): **10.04 > 3.84**"
      ]
    },
    {
      "cell_type": "code",
      "execution_count": null,
      "metadata": {
        "id": "U25SQKFKDQqe",
        "outputId": "8a6ff273-9eb5-4099-a7a0-bcc3317114f3"
      },
      "outputs": [
        {
          "name": "stdout",
          "output_type": "stream",
          "text": [
            "True\n"
          ]
        }
      ],
      "source": [
        "print(chi_square > critical_value)"
      ]
    },
    {
      "cell_type": "markdown",
      "metadata": {
        "id": "5NVl5Nb-DQqe"
      },
      "source": [
        "Таким образом, мы отвергаем нулевую гипотезу в пользу альтернативной на уровне значимости 5%, то есть в генеральной совокупности существует зависимость между типом двигателя и расходом топлива."
      ]
    },
    {
      "cell_type": "markdown",
      "metadata": {
        "id": "gWNJiMIGDQqf"
      },
      "source": [
        "- Сверьте Ваш результат со встроенной функцией из модуля scipy.stats (если она есть)."
      ]
    },
    {
      "cell_type": "code",
      "execution_count": null,
      "metadata": {
        "id": "7vw4HyKYDQqf"
      },
      "outputs": [],
      "source": [
        "from scipy.stats import chi2_contingency"
      ]
    },
    {
      "cell_type": "code",
      "execution_count": null,
      "metadata": {
        "id": "RqWMZlXlDQqf",
        "outputId": "1ebe7ddb-0d82-440c-ecde-4de3e3cfa857"
      },
      "outputs": [
        {
          "data": {
            "text/plain": [
              "(7.905882352941176,\n",
              " 0.004927430103394077,\n",
              " 1,\n",
              " array([[9.5625, 8.4375],\n",
              "        [7.4375, 6.5625]]))"
            ]
          },
          "execution_count": 60,
          "metadata": {},
          "output_type": "execute_result"
        }
      ],
      "source": [
        "chi2_contingency(ct_o)"
      ]
    },
    {
      "cell_type": "markdown",
      "metadata": {
        "id": "3UsyXS9vDQqf"
      },
      "source": [
        "Воспользовавшись встроенной функцией из модуля scipy.stats, можно сделать аналогичный вывод о том, что нулевую гипотеза отвергается в пользу альтернативной, то есть в генеральной совокупности существует зависимость между типом двигателя и расходом топлива, так как значение p-value меньше 𝛼: **≈0.005 < 0.05**. Стоит отметить, что данный исход выполнялся бы и при меньшей альфе, например, 0.01\n",
        "\n",
        "Данную задачу можно было решить проще, воспользовавшись способом, по которому была решена следующая задача ↓↓↓."
      ]
    },
    {
      "cell_type": "code",
      "execution_count": null,
      "metadata": {
        "id": "BhNmjvM9DQqf"
      },
      "outputs": [],
      "source": [
        "# приведу кратное решение через функцию модуля scipy.stats\n",
        "from scipy.stats import pearsonr"
      ]
    },
    {
      "cell_type": "code",
      "execution_count": null,
      "metadata": {
        "id": "6gVcE3DNDQqf",
        "outputId": "90310ec2-97af-4b16-c8c1-6f53261bc9f3"
      },
      "outputs": [
        {
          "data": {
            "text/plain": [
              "PearsonRResult(statistic=0.6640389191275929, pvalue=3.4159372544199445e-05)"
            ]
          },
          "execution_count": 6,
          "metadata": {},
          "output_type": "execute_result"
        }
      ],
      "source": [
        "pearsonr(df[\"mpg\"], df[\"vs\"])"
      ]
    },
    {
      "cell_type": "code",
      "execution_count": null,
      "metadata": {
        "id": "gQe6MS3QDQqf",
        "outputId": "1d3f0bb9-77c3-4757-c635-40e6564c7289"
      },
      "outputs": [
        {
          "name": "stdout",
          "output_type": "stream",
          "text": [
            "True\n"
          ]
        }
      ],
      "source": [
        "print(3.4159372544199445e-05 < 0.05)\n",
        "# p-value меньше 𝛼 =>\n",
        "# H0: ρ = 0, в ген. совокупности не существует зависимости между типом двигателя и расходом топлива отвергается\n",
        "# в пользу альтернативной 𝐻1:ρ ≠ 0."
      ]
    },
    {
      "cell_type": "markdown",
      "metadata": {
        "id": "ISOQK8duDQqg"
      },
      "source": [
        "**(2 БАЛЛА)**. Реализуйте решение для второго вопроса. Подумайте как можно измерить влияние объема мотора на расход топлива. Предложите алгоритм и опишите механизм проверки гипотезы в данном задании. Какие должны быть гипотезы? Выберите $\\alpha$. Реализуйте этот алгоритм (статистику и распределение) и вручную проверьте Ваши гипотезы, сделайте вывод. Сверьте Ваш результат со встроенной функцией из модуля scipy.stats (если она есть). Постарайтесь записать гипотезы красиво)"
      ]
    },
    {
      "cell_type": "markdown",
      "metadata": {
        "id": "hfTQ7WguDQqg"
      },
      "source": [
        "2. Влияет ли объем мотора на расход топлива? Да, влияет. Докажем это."
      ]
    },
    {
      "cell_type": "markdown",
      "metadata": {
        "id": "bc97Q5x-DQqg"
      },
      "source": [
        "Мы хотим узнать, есть ли статистически значимая зависимость между переменной \"объем мотора\" и переменной \"расход топлива\", то есть мы хотим проверить гипотезу, что в генеральной совокупности данные переменные коррелируют между собой, то есть их коэффициент корреляции не равен 0.\n",
        "\n",
        "$$\n",
        "\\begin{aligned}\n",
        "&H_0: \\text{ρ = 0, в ген. совокупности не существует зависимости между объемом мотора и расходом топлива.} \\\\\n",
        "&H_1: \\text{ρ ≠ 0, в ген. совокупности существует зависимости между объемом мотора и расходом топлива.}\n",
        "\\end{aligned}\n",
        "$$\n",
        "\n",
        "Для тестирования гипотезы о существовании линейной зависимости между признаками воспользуемся $t$-тестом, уровень значимости равен 5% (𝛼 = 0.05).\n",
        "\n"
      ]
    },
    {
      "cell_type": "markdown",
      "metadata": {
        "id": "2PKtiFYaDQqg"
      },
      "source": [
        "Сформулируем критерий, предполагая, что выборка получена из нормального распределения ген. совокупности."
      ]
    },
    {
      "cell_type": "markdown",
      "metadata": {
        "id": "zwFxmv_QDQqg"
      },
      "source": [
        "Пусть:\n",
        "\n",
        "$X$ - объем мотора \"disp\", $Y$ - расход топлива \"mpg\"\n",
        "\n",
        "Статистика: $t = \\frac{r_{X, Y} \\sqrt{n-2}}{\\sqrt{1 - r^2_{X, Y}}} \\sim T_{n-2}$, где $T_{n-2}$ распределение Стьюдента.\n",
        "\n",
        "Выборочный коэффициент корреляции Пирсона:\n",
        "$r_{X,Y} = \\frac{\\frac{1}{n} \\sum \\limits_{i=1}^n (x_i - \\overline X)(y_i - \\overline Y) }{ \\sqrt{D^*_X D^*_Y}}$, где $D^*_X = \\frac{1}{n} \\sum \\limits_{i=1}^n (x_i - \\overline X)^2$ и $D^*_Y = \\frac{1}{n} \\sum \\limits_{i=1}^n (y_i - \\overline Y)^2$"
      ]
    },
    {
      "cell_type": "code",
      "execution_count": null,
      "metadata": {
        "id": "jesiIqhfDQqg",
        "outputId": "6c04dd75-92da-4492-ceb5-8b81e885f622"
      },
      "outputs": [
        {
          "data": {
            "text/html": [
              "<div>\n",
              "<style scoped>\n",
              "    .dataframe tbody tr th:only-of-type {\n",
              "        vertical-align: middle;\n",
              "    }\n",
              "\n",
              "    .dataframe tbody tr th {\n",
              "        vertical-align: top;\n",
              "    }\n",
              "\n",
              "    .dataframe thead th {\n",
              "        text-align: right;\n",
              "    }\n",
              "</style>\n",
              "<table border=\"1\" class=\"dataframe\">\n",
              "  <thead>\n",
              "    <tr style=\"text-align: right;\">\n",
              "      <th></th>\n",
              "      <th>disp</th>\n",
              "      <th>mpg</th>\n",
              "    </tr>\n",
              "    <tr>\n",
              "      <th>manufacturer</th>\n",
              "      <th></th>\n",
              "      <th></th>\n",
              "    </tr>\n",
              "  </thead>\n",
              "  <tbody>\n",
              "    <tr>\n",
              "      <th>Merc 230</th>\n",
              "      <td>140.8</td>\n",
              "      <td>22.8</td>\n",
              "    </tr>\n",
              "    <tr>\n",
              "      <th>Datsun 710</th>\n",
              "      <td>108.0</td>\n",
              "      <td>22.8</td>\n",
              "    </tr>\n",
              "    <tr>\n",
              "      <th>Dodge Challenger</th>\n",
              "      <td>318.0</td>\n",
              "      <td>15.5</td>\n",
              "    </tr>\n",
              "    <tr>\n",
              "      <th>Merc 280C</th>\n",
              "      <td>167.6</td>\n",
              "      <td>17.8</td>\n",
              "    </tr>\n",
              "    <tr>\n",
              "      <th>Merc 450SLC</th>\n",
              "      <td>275.8</td>\n",
              "      <td>15.2</td>\n",
              "    </tr>\n",
              "  </tbody>\n",
              "</table>\n",
              "</div>"
            ],
            "text/plain": [
              "                   disp   mpg\n",
              "manufacturer                 \n",
              "Merc 230          140.8  22.8\n",
              "Datsun 710        108.0  22.8\n",
              "Dodge Challenger  318.0  15.5\n",
              "Merc 280C         167.6  17.8\n",
              "Merc 450SLC       275.8  15.2"
            ]
          },
          "execution_count": 89,
          "metadata": {},
          "output_type": "execute_result"
        }
      ],
      "source": [
        "new_data = pd.concat([df['disp'], df['mpg']], axis=1)\n",
        "new_data.sample(5)"
      ]
    },
    {
      "cell_type": "code",
      "execution_count": null,
      "metadata": {
        "id": "sq_eor_lDQqh",
        "outputId": "60049046-81f1-4406-e699-5d33b344fd5c"
      },
      "outputs": [
        {
          "data": {
            "text/html": [
              "<div>\n",
              "<style scoped>\n",
              "    .dataframe tbody tr th:only-of-type {\n",
              "        vertical-align: middle;\n",
              "    }\n",
              "\n",
              "    .dataframe tbody tr th {\n",
              "        vertical-align: top;\n",
              "    }\n",
              "\n",
              "    .dataframe thead th {\n",
              "        text-align: right;\n",
              "    }\n",
              "</style>\n",
              "<table border=\"1\" class=\"dataframe\">\n",
              "  <thead>\n",
              "    <tr style=\"text-align: right;\">\n",
              "      <th></th>\n",
              "      <th>disp</th>\n",
              "      <th>mpg</th>\n",
              "      <th>X - Mx</th>\n",
              "      <th>Y - My</th>\n",
              "    </tr>\n",
              "    <tr>\n",
              "      <th>manufacturer</th>\n",
              "      <th></th>\n",
              "      <th></th>\n",
              "      <th></th>\n",
              "      <th></th>\n",
              "    </tr>\n",
              "  </thead>\n",
              "  <tbody>\n",
              "    <tr>\n",
              "      <th>Mazda RX4</th>\n",
              "      <td>160.0</td>\n",
              "      <td>21.0</td>\n",
              "      <td>-70.721875</td>\n",
              "      <td>0.909375</td>\n",
              "    </tr>\n",
              "    <tr>\n",
              "      <th>Mazda RX4 Wag</th>\n",
              "      <td>160.0</td>\n",
              "      <td>21.0</td>\n",
              "      <td>-70.721875</td>\n",
              "      <td>0.909375</td>\n",
              "    </tr>\n",
              "    <tr>\n",
              "      <th>Datsun 710</th>\n",
              "      <td>108.0</td>\n",
              "      <td>22.8</td>\n",
              "      <td>-122.721875</td>\n",
              "      <td>2.709375</td>\n",
              "    </tr>\n",
              "    <tr>\n",
              "      <th>Hornet 4 Drive</th>\n",
              "      <td>258.0</td>\n",
              "      <td>21.4</td>\n",
              "      <td>27.278125</td>\n",
              "      <td>1.309375</td>\n",
              "    </tr>\n",
              "    <tr>\n",
              "      <th>Hornet Sportabout</th>\n",
              "      <td>360.0</td>\n",
              "      <td>18.7</td>\n",
              "      <td>129.278125</td>\n",
              "      <td>-1.390625</td>\n",
              "    </tr>\n",
              "  </tbody>\n",
              "</table>\n",
              "</div>"
            ],
            "text/plain": [
              "                    disp   mpg      X - Mx    Y - My\n",
              "manufacturer                                        \n",
              "Mazda RX4          160.0  21.0  -70.721875  0.909375\n",
              "Mazda RX4 Wag      160.0  21.0  -70.721875  0.909375\n",
              "Datsun 710         108.0  22.8 -122.721875  2.709375\n",
              "Hornet 4 Drive     258.0  21.4   27.278125  1.309375\n",
              "Hornet Sportabout  360.0  18.7  129.278125 -1.390625"
            ]
          },
          "execution_count": 92,
          "metadata": {},
          "output_type": "execute_result"
        }
      ],
      "source": [
        "new_data[\"X - Mx\"] = new_data[\"disp\"] - new_data[\"disp\"].mean()\n",
        "new_data[\"Y - My\"] = new_data[\"mpg\"] - new_data[\"mpg\"].mean()\n",
        "new_data.head()"
      ]
    },
    {
      "cell_type": "code",
      "execution_count": null,
      "metadata": {
        "id": "EJoBaaWbDQqh",
        "outputId": "b06bb809-e5bd-40cd-ba51-3934f9367c65"
      },
      "outputs": [
        {
          "data": {
            "text/plain": [
              "-0.8475513792624786"
            ]
          },
          "execution_count": 95,
          "metadata": {},
          "output_type": "execute_result"
        }
      ],
      "source": [
        "sum_all = (new_data[\"X - Mx\"]*new_data[\"Y - My\"]).sum()\n",
        "D_x = (new_data[\"X - Mx\"]**2).sum()\n",
        "D_y = (new_data[\"Y - My\"]**2).sum()\n",
        "\n",
        "r_x_y = sum_all/np.sqrt(D_x * D_y)\n",
        "r_x_y\n",
        "\n",
        "# промежуточный итог: отрицательная корреляция как предсказывалось на диаграмме рассеяния (график №3)"
      ]
    },
    {
      "cell_type": "code",
      "execution_count": null,
      "metadata": {
        "id": "YoFDVTVwDQqh",
        "outputId": "2d15548e-7ba5-4de6-e257-e4c940936d6d"
      },
      "outputs": [
        {
          "data": {
            "text/plain": [
              "-16.481875836837744"
            ]
          },
          "execution_count": 96,
          "metadata": {},
          "output_type": "execute_result"
        }
      ],
      "source": [
        "t_obs = (r_x_y * np.sqrt(new_data.shape[0] - 2))/(1 - r_x_y**2)\n",
        "t_obs"
      ]
    },
    {
      "cell_type": "code",
      "execution_count": null,
      "metadata": {
        "id": "QPqazMDIDQqh",
        "outputId": "8a3d5599-ba8e-4f89-a5b8-78a4835c4eeb"
      },
      "outputs": [
        {
          "data": {
            "text/plain": [
              "2.0422724563012373"
            ]
          },
          "execution_count": 106,
          "metadata": {},
          "output_type": "execute_result"
        }
      ],
      "source": [
        "t_critical_value = scipy.stats.t.ppf(1 - alpha/2, new_data.shape[0] - 2)\n",
        "t_critical_value"
      ]
    },
    {
      "cell_type": "markdown",
      "metadata": {
        "id": "8B0MAx6uDQqh"
      },
      "source": [
        "Итак, чтобы сделать вывод об отвержении нулевой гипотезы, будем сравнивать модуль найденного значения t-наблюдаемого (t_obs) с границей критической области (t_critical_value): **≈16.48 > 2.04**"
      ]
    },
    {
      "cell_type": "code",
      "execution_count": null,
      "metadata": {
        "id": "Dy2yxKLNDQqh",
        "outputId": "42c73d80-11a1-448a-e4a7-00390eab9ca0"
      },
      "outputs": [
        {
          "name": "stdout",
          "output_type": "stream",
          "text": [
            "True\n"
          ]
        }
      ],
      "source": [
        "print(abs(t_obs) > t_critical_value) # значение t-stat в критической области"
      ]
    },
    {
      "cell_type": "markdown",
      "metadata": {
        "id": "6iDNqsCvDQqi"
      },
      "source": [
        "Таким образом, мы отвергаем нулевую гипотезу в пользу альтернативной на уровне значимости 5%, то есть в генеральной совокупности существует зависимость между объем мотора и расходом топлива, коэффициент корреляции не равен 0."
      ]
    },
    {
      "cell_type": "markdown",
      "metadata": {
        "id": "utXbD6kWDQqi"
      },
      "source": [
        "- Сверьте Ваш результат со встроенной функцией из модуля scipy.stats (если она есть)."
      ]
    },
    {
      "cell_type": "code",
      "execution_count": null,
      "metadata": {
        "id": "MWZPy-UVDQqi"
      },
      "outputs": [],
      "source": [
        "from scipy.stats import pearsonr"
      ]
    },
    {
      "cell_type": "code",
      "execution_count": null,
      "metadata": {
        "id": "GLgp0-7kDQqi",
        "outputId": "bb067ee7-87b1-4582-8d46-5707b836d2a1"
      },
      "outputs": [
        {
          "data": {
            "text/plain": [
              "PearsonRResult(statistic=-0.8475513792624787, pvalue=9.380326537381398e-10)"
            ]
          },
          "execution_count": 105,
          "metadata": {},
          "output_type": "execute_result"
        }
      ],
      "source": [
        "pearsonr(new_data[\"disp\"], new_data[\"mpg\"])"
      ]
    },
    {
      "cell_type": "markdown",
      "metadata": {
        "id": "futnvso2DQqi"
      },
      "source": [
        "Воспользовавшись встроенной функцией из модуля scipy.stats, можно сделать аналогичный вывод о том, что нулевую гипотеза отвергается в пользу альтернативной, то есть в генеральной совокупности существует зависимость между объемом мотора и расходом топлива, так как значение p-value меньше 𝛼: **9.380326537381398e-1 < 0.05**. Стоит отметить, что данный исход выполнялся бы и при меньшей альфе, например, 0.01"
      ]
    }
  ],
  "metadata": {
    "colab": {
      "provenance": []
    },
    "gist": {
      "data": {
        "description": "Google Drive/My Drive/main/teaching/22-1_stat-dpo-da-4/Материалы/ДЗ/hw2_hypothesis-testing_solved.ipynb",
        "public": false
      },
      "id": ""
    },
    "kernelspec": {
      "display_name": "Python 3 (ipykernel)",
      "language": "python",
      "name": "python3"
    },
    "language_info": {
      "codemirror_mode": {
        "name": "ipython",
        "version": 3
      },
      "file_extension": ".py",
      "mimetype": "text/x-python",
      "name": "python",
      "nbconvert_exporter": "python",
      "pygments_lexer": "ipython3",
      "version": "3.9.13"
    },
    "toc": {
      "base_numbering": 1,
      "nav_menu": {},
      "number_sections": true,
      "sideBar": true,
      "skip_h1_title": true,
      "title_cell": "Table of Contents",
      "title_sidebar": "Contents",
      "toc_cell": true,
      "toc_position": {},
      "toc_section_display": true,
      "toc_window_display": true
    },
    "vscode": {
      "interpreter": {
        "hash": "26de051ba29f2982a8de78e945f0abaf191376122a1563185a90213a26c5da77"
      }
    }
  },
  "nbformat": 4,
  "nbformat_minor": 0
}