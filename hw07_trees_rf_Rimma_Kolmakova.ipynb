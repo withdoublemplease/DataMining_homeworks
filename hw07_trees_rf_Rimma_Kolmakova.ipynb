{
  "cells": [
    {
      "cell_type": "markdown",
      "metadata": {
        "id": "jvebyzIUvf8_"
      },
      "source": [
        "# Интеллектуальный анализ данных – весна 2022\n",
        "\n",
        "# Домашнее задание 7: Деревья. Случайный лес\n",
        "\n",
        "Правила:\n",
        "\n",
        "- Домашнее задание оценивается в 10 баллов (+1 бонусный балл).\n",
        "\n",
        "\n",
        "- Можно использовать без доказательства любые результаты, встречавшиеся на лекциях или семинарах по курсу, если получение этих результатов не является вопросом задания.\n",
        "\n",
        "\n",
        "- Можно использовать любые свободные источники с обязательным указанием ссылки на них.\n",
        "\n",
        "\n",
        "- Плагиат не допускается. При обнаружении случаев списывания, 0 за работу выставляется всем участникам нарушения, даже если можно установить, кто у кого списал.Я\n",
        "\n",
        "<!-- ![](https://github.com/hse-ds/iad-intro-ds/blob/master/2023/homeworks/hw07-trees/meme.jpg?raw=1) -->\n",
        "<img src=\"https://github.com/hse-ds/iad-intro-ds/blob/master/2023/homeworks/hw07-trees/meme.jpg?raw=1\" alt=\"Drawing\" style=\"width: 700px;\"/>"
      ]
    },
    {
      "cell_type": "markdown",
      "metadata": {
        "id": "7F8Im6XIvf9J"
      },
      "source": [
        "## Часть 1: Основы построения решающие дерева (1.5 балла)\n",
        "\n",
        "В этой части все расчёты необходимо реализовывать в виде запрограммированных формул, например, на `numpy`. **Нельзя использовать готовые реализации**. Например, если в задании требуется рассчитать энтропию, то требуется в каком-то виде релизовать расчёт по формуле, но нельзя использовать готовую реализацию `some_module.entropy()`."
      ]
    },
    {
      "cell_type": "code",
      "execution_count": null,
      "metadata": {
        "id": "eUvtOAojvf9M"
      },
      "outputs": [],
      "source": [
        "import numpy as np\n",
        "import pandas as pd\n",
        "import matplotlib.pyplot as plt\n",
        "import seaborn as sns"
      ]
    },
    {
      "cell_type": "markdown",
      "metadata": {
        "id": "bEYqp4hivf9Q"
      },
      "source": [
        "**Задание 1.1 (0.5 балла)** Пусть известно, что в вершину решающего дерева попали 10 объектов, 8 из которых имеют метку класса $k_1$, а 2 имеют метку класса $k_2$. Рассчитайте энтропию такого распределения классов (с натуральным логарифмом). Ответ округлите до двух знаков после запятой."
      ]
    },
    {
      "cell_type": "code",
      "execution_count": null,
      "metadata": {
        "colab": {
          "base_uri": "https://localhost:8080/"
        },
        "id": "A1F5pYlyvf9S",
        "outputId": "94be17f8-a84b-4ab0-f430-4c74af30e47f"
      },
      "outputs": [
        {
          "output_type": "execute_result",
          "data": {
            "text/plain": [
              "0.5"
            ]
          },
          "metadata": {},
          "execution_count": 2
        }
      ],
      "source": [
        "p_k1, p_k2  = 8/10, 2/10\n",
        "entropy = np.around((-1)*(p_k1 * np.log(p_k1)+ p_k2 * np.log(p_k2)), 2)\n",
        "entropy"
      ]
    },
    {
      "cell_type": "markdown",
      "metadata": {
        "id": "fIMx1Yvmvf9T"
      },
      "source": [
        "**Задание 1.2 (0.5 балла)** Пусть дополнительно известно, что вершина из предыдущего задания не является листовой и возможно такое разбиение, что в левое поддерево попадут все объекты класса $k_1$, а в правое - класса $k_2$. Посчитайте критерий информативности:\n",
        "\n",
        "$$\n",
        "Q(R_m, j, t) = H(R_m) - \\frac{|R_\\ell|}{|R_m|}H(R_\\ell) - \\frac{|R_r|}{|R_m|}H(R_r),\n",
        "$$\n",
        "\n",
        "где $R_m$ - множество объектов в разбиваемой вершине, $j$ - номер признака, по которому происходит разбиение, $t$ - порог разбиения, $R_\\ell$ - множество объектов в левом поддереве, $R_r$ - множество объектов в правом поддереве.\n",
        "\n",
        "Теперь в качестве $H(R)$ будем использовать индекс Джини:\n",
        "\n",
        "$$\n",
        "H(R) = \\sum_{k=1}^J p_k(1-p_k),\n",
        "$$\n",
        "где $J$ – общее количество классов (в нашем случае, $J = 2$).\n",
        "\n",
        "Ответ округлите до двух знаков после запятой."
      ]
    },
    {
      "cell_type": "code",
      "execution_count": null,
      "metadata": {
        "colab": {
          "base_uri": "https://localhost:8080/"
        },
        "id": "DG0GZx1Pvf9V",
        "outputId": "51fc5faf-6653-4138-b465-496601ad1fc6"
      },
      "outputs": [
        {
          "data": {
            "text/plain": [
              "0.32"
            ]
          },
          "execution_count": 117,
          "metadata": {},
          "output_type": "execute_result"
        }
      ],
      "source": [
        "H_Rm = p_k1 * (1 - p_k1) + p_k2 * (1 - p_k2)\n",
        "p_k1_l, p_k2_l = 8/8, 0/8\n",
        "p_k1_r, p_k2_r = 0/2, 2/2\n",
        "H_Rl = p_k1_l * (1 - p_k1_l) + p_k2_l * (1 - p_k2_l)\n",
        "H_Rr = p_k1_r * (1 - p_k1_r) + p_k2_r * (1 - p_k2_r)\n",
        "\n",
        "Q = H_Rm - 8/10 * H_Rl - 2/10 * H_Rr\n",
        "Q"
      ]
    },
    {
      "cell_type": "markdown",
      "metadata": {
        "id": "TV7CTKpXvf9W"
      },
      "source": [
        "**Задание 1.3 (0.5 балла)** Пусть при построении дерева образовалась листовая вершина с 10 объектами, значения целевой переменной для которых следующие: [1, 10, 5, 18, 100, 30, 50, 61, 84, 47] (решается задача регрессии). Чему будут равны предсказания модели для этих объектов?"
      ]
    },
    {
      "cell_type": "code",
      "execution_count": null,
      "metadata": {
        "colab": {
          "base_uri": "https://localhost:8080/"
        },
        "id": "m8JikgV8vf9X",
        "outputId": "b49e5575-8be3-407f-9ab2-548e7904f255"
      },
      "outputs": [
        {
          "data": {
            "text/plain": [
              "40.6"
            ]
          },
          "execution_count": 118,
          "metadata": {},
          "output_type": "execute_result"
        }
      ],
      "source": [
        "# если решается задача регресии, то в листе считаем среднее среди ответов\n",
        "leaf = [1, 10, 5, 18, 100, 30, 50, 61, 84, 47]\n",
        "prediction = sum(leaf)/len(leaf)\n",
        "prediction"
      ]
    },
    {
      "cell_type": "markdown",
      "metadata": {
        "id": "PnKe7phWvf93"
      },
      "source": [
        "## Часть 2: Бэггинг и случайный лес (4 балла)"
      ]
    },
    {
      "cell_type": "markdown",
      "metadata": {
        "id": "HDaq2Oo3vf94"
      },
      "source": [
        "В данной части мы будем работать [с задачей предсказания диабета у пациента](https://www.kaggle.com/uciml/pima-indians-diabetes-database/data). Посмотрим на работу бэггинга над решающими деревьями и случайного леса, сравним их работу."
      ]
    },
    {
      "cell_type": "code",
      "execution_count": null,
      "metadata": {
        "id": "sZ1wr3PDvf95"
      },
      "outputs": [],
      "source": [
        "from sklearn.ensemble import BaggingClassifier, RandomForestClassifier\n",
        "from sklearn.metrics import accuracy_score, precision_score, recall_score, roc_auc_score, f1_score\n",
        "from sklearn.model_selection import train_test_split\n",
        "from sklearn.tree import DecisionTreeClassifier"
      ]
    },
    {
      "cell_type": "code",
      "execution_count": null,
      "metadata": {
        "colab": {
          "base_uri": "https://localhost:8080/",
          "height": 243
        },
        "id": "6IApqAPJvf96",
        "outputId": "be730d01-c4d5-4cbc-effa-bfc6fd863ea6",
        "scrolled": true
      },
      "outputs": [
        {
          "output_type": "stream",
          "name": "stdout",
          "text": [
            "Dataset shape: (768, 9)\n"
          ]
        },
        {
          "output_type": "execute_result",
          "data": {
            "text/plain": [
              "   Pregnancies  Glucose  BloodPressure  SkinThickness  Insulin   BMI  \\\n",
              "0            6      148             72             35        0  33.6   \n",
              "1            1       85             66             29        0  26.6   \n",
              "2            8      183             64              0        0  23.3   \n",
              "3            1       89             66             23       94  28.1   \n",
              "4            0      137             40             35      168  43.1   \n",
              "\n",
              "   DiabetesPedigreeFunction  Age  Outcome  \n",
              "0                     0.627   50        1  \n",
              "1                     0.351   31        0  \n",
              "2                     0.672   32        1  \n",
              "3                     0.167   21        0  \n",
              "4                     2.288   33        1  "
            ],
            "text/html": [
              "\n",
              "  <div id=\"df-2189b3b5-4b0b-42d5-add9-afbdab130d19\" class=\"colab-df-container\">\n",
              "    <div>\n",
              "<style scoped>\n",
              "    .dataframe tbody tr th:only-of-type {\n",
              "        vertical-align: middle;\n",
              "    }\n",
              "\n",
              "    .dataframe tbody tr th {\n",
              "        vertical-align: top;\n",
              "    }\n",
              "\n",
              "    .dataframe thead th {\n",
              "        text-align: right;\n",
              "    }\n",
              "</style>\n",
              "<table border=\"1\" class=\"dataframe\">\n",
              "  <thead>\n",
              "    <tr style=\"text-align: right;\">\n",
              "      <th></th>\n",
              "      <th>Pregnancies</th>\n",
              "      <th>Glucose</th>\n",
              "      <th>BloodPressure</th>\n",
              "      <th>SkinThickness</th>\n",
              "      <th>Insulin</th>\n",
              "      <th>BMI</th>\n",
              "      <th>DiabetesPedigreeFunction</th>\n",
              "      <th>Age</th>\n",
              "      <th>Outcome</th>\n",
              "    </tr>\n",
              "  </thead>\n",
              "  <tbody>\n",
              "    <tr>\n",
              "      <th>0</th>\n",
              "      <td>6</td>\n",
              "      <td>148</td>\n",
              "      <td>72</td>\n",
              "      <td>35</td>\n",
              "      <td>0</td>\n",
              "      <td>33.6</td>\n",
              "      <td>0.627</td>\n",
              "      <td>50</td>\n",
              "      <td>1</td>\n",
              "    </tr>\n",
              "    <tr>\n",
              "      <th>1</th>\n",
              "      <td>1</td>\n",
              "      <td>85</td>\n",
              "      <td>66</td>\n",
              "      <td>29</td>\n",
              "      <td>0</td>\n",
              "      <td>26.6</td>\n",
              "      <td>0.351</td>\n",
              "      <td>31</td>\n",
              "      <td>0</td>\n",
              "    </tr>\n",
              "    <tr>\n",
              "      <th>2</th>\n",
              "      <td>8</td>\n",
              "      <td>183</td>\n",
              "      <td>64</td>\n",
              "      <td>0</td>\n",
              "      <td>0</td>\n",
              "      <td>23.3</td>\n",
              "      <td>0.672</td>\n",
              "      <td>32</td>\n",
              "      <td>1</td>\n",
              "    </tr>\n",
              "    <tr>\n",
              "      <th>3</th>\n",
              "      <td>1</td>\n",
              "      <td>89</td>\n",
              "      <td>66</td>\n",
              "      <td>23</td>\n",
              "      <td>94</td>\n",
              "      <td>28.1</td>\n",
              "      <td>0.167</td>\n",
              "      <td>21</td>\n",
              "      <td>0</td>\n",
              "    </tr>\n",
              "    <tr>\n",
              "      <th>4</th>\n",
              "      <td>0</td>\n",
              "      <td>137</td>\n",
              "      <td>40</td>\n",
              "      <td>35</td>\n",
              "      <td>168</td>\n",
              "      <td>43.1</td>\n",
              "      <td>2.288</td>\n",
              "      <td>33</td>\n",
              "      <td>1</td>\n",
              "    </tr>\n",
              "  </tbody>\n",
              "</table>\n",
              "</div>\n",
              "    <div class=\"colab-df-buttons\">\n",
              "\n",
              "  <div class=\"colab-df-container\">\n",
              "    <button class=\"colab-df-convert\" onclick=\"convertToInteractive('df-2189b3b5-4b0b-42d5-add9-afbdab130d19')\"\n",
              "            title=\"Convert this dataframe to an interactive table.\"\n",
              "            style=\"display:none;\">\n",
              "\n",
              "  <svg xmlns=\"http://www.w3.org/2000/svg\" height=\"24px\" viewBox=\"0 -960 960 960\">\n",
              "    <path d=\"M120-120v-720h720v720H120Zm60-500h600v-160H180v160Zm220 220h160v-160H400v160Zm0 220h160v-160H400v160ZM180-400h160v-160H180v160Zm440 0h160v-160H620v160ZM180-180h160v-160H180v160Zm440 0h160v-160H620v160Z\"/>\n",
              "  </svg>\n",
              "    </button>\n",
              "\n",
              "  <style>\n",
              "    .colab-df-container {\n",
              "      display:flex;\n",
              "      gap: 12px;\n",
              "    }\n",
              "\n",
              "    .colab-df-convert {\n",
              "      background-color: #E8F0FE;\n",
              "      border: none;\n",
              "      border-radius: 50%;\n",
              "      cursor: pointer;\n",
              "      display: none;\n",
              "      fill: #1967D2;\n",
              "      height: 32px;\n",
              "      padding: 0 0 0 0;\n",
              "      width: 32px;\n",
              "    }\n",
              "\n",
              "    .colab-df-convert:hover {\n",
              "      background-color: #E2EBFA;\n",
              "      box-shadow: 0px 1px 2px rgba(60, 64, 67, 0.3), 0px 1px 3px 1px rgba(60, 64, 67, 0.15);\n",
              "      fill: #174EA6;\n",
              "    }\n",
              "\n",
              "    .colab-df-buttons div {\n",
              "      margin-bottom: 4px;\n",
              "    }\n",
              "\n",
              "    [theme=dark] .colab-df-convert {\n",
              "      background-color: #3B4455;\n",
              "      fill: #D2E3FC;\n",
              "    }\n",
              "\n",
              "    [theme=dark] .colab-df-convert:hover {\n",
              "      background-color: #434B5C;\n",
              "      box-shadow: 0px 1px 3px 1px rgba(0, 0, 0, 0.15);\n",
              "      filter: drop-shadow(0px 1px 2px rgba(0, 0, 0, 0.3));\n",
              "      fill: #FFFFFF;\n",
              "    }\n",
              "  </style>\n",
              "\n",
              "    <script>\n",
              "      const buttonEl =\n",
              "        document.querySelector('#df-2189b3b5-4b0b-42d5-add9-afbdab130d19 button.colab-df-convert');\n",
              "      buttonEl.style.display =\n",
              "        google.colab.kernel.accessAllowed ? 'block' : 'none';\n",
              "\n",
              "      async function convertToInteractive(key) {\n",
              "        const element = document.querySelector('#df-2189b3b5-4b0b-42d5-add9-afbdab130d19');\n",
              "        const dataTable =\n",
              "          await google.colab.kernel.invokeFunction('convertToInteractive',\n",
              "                                                    [key], {});\n",
              "        if (!dataTable) return;\n",
              "\n",
              "        const docLinkHtml = 'Like what you see? Visit the ' +\n",
              "          '<a target=\"_blank\" href=https://colab.research.google.com/notebooks/data_table.ipynb>data table notebook</a>'\n",
              "          + ' to learn more about interactive tables.';\n",
              "        element.innerHTML = '';\n",
              "        dataTable['output_type'] = 'display_data';\n",
              "        await google.colab.output.renderOutput(dataTable, element);\n",
              "        const docLink = document.createElement('div');\n",
              "        docLink.innerHTML = docLinkHtml;\n",
              "        element.appendChild(docLink);\n",
              "      }\n",
              "    </script>\n",
              "  </div>\n",
              "\n",
              "\n",
              "<div id=\"df-b84dac85-b17e-4711-8c73-434a4f7ee2b9\">\n",
              "  <button class=\"colab-df-quickchart\" onclick=\"quickchart('df-b84dac85-b17e-4711-8c73-434a4f7ee2b9')\"\n",
              "            title=\"Suggest charts.\"\n",
              "            style=\"display:none;\">\n",
              "\n",
              "<svg xmlns=\"http://www.w3.org/2000/svg\" height=\"24px\"viewBox=\"0 0 24 24\"\n",
              "     width=\"24px\">\n",
              "    <g>\n",
              "        <path d=\"M19 3H5c-1.1 0-2 .9-2 2v14c0 1.1.9 2 2 2h14c1.1 0 2-.9 2-2V5c0-1.1-.9-2-2-2zM9 17H7v-7h2v7zm4 0h-2V7h2v10zm4 0h-2v-4h2v4z\"/>\n",
              "    </g>\n",
              "</svg>\n",
              "  </button>\n",
              "\n",
              "<style>\n",
              "  .colab-df-quickchart {\n",
              "    background-color: #E8F0FE;\n",
              "    border: none;\n",
              "    border-radius: 50%;\n",
              "    cursor: pointer;\n",
              "    display: none;\n",
              "    fill: #1967D2;\n",
              "    height: 32px;\n",
              "    padding: 0 0 0 0;\n",
              "    width: 32px;\n",
              "  }\n",
              "\n",
              "  .colab-df-quickchart:hover {\n",
              "    background-color: #E2EBFA;\n",
              "    box-shadow: 0px 1px 2px rgba(60, 64, 67, 0.3), 0px 1px 3px 1px rgba(60, 64, 67, 0.15);\n",
              "    fill: #174EA6;\n",
              "  }\n",
              "\n",
              "  [theme=dark] .colab-df-quickchart {\n",
              "    background-color: #3B4455;\n",
              "    fill: #D2E3FC;\n",
              "  }\n",
              "\n",
              "  [theme=dark] .colab-df-quickchart:hover {\n",
              "    background-color: #434B5C;\n",
              "    box-shadow: 0px 1px 3px 1px rgba(0, 0, 0, 0.15);\n",
              "    filter: drop-shadow(0px 1px 2px rgba(0, 0, 0, 0.3));\n",
              "    fill: #FFFFFF;\n",
              "  }\n",
              "</style>\n",
              "\n",
              "  <script>\n",
              "    async function quickchart(key) {\n",
              "      const charts = await google.colab.kernel.invokeFunction(\n",
              "          'suggestCharts', [key], {});\n",
              "    }\n",
              "    (() => {\n",
              "      let quickchartButtonEl =\n",
              "        document.querySelector('#df-b84dac85-b17e-4711-8c73-434a4f7ee2b9 button');\n",
              "      quickchartButtonEl.style.display =\n",
              "        google.colab.kernel.accessAllowed ? 'block' : 'none';\n",
              "    })();\n",
              "  </script>\n",
              "</div>\n",
              "    </div>\n",
              "  </div>\n"
            ]
          },
          "metadata": {},
          "execution_count": 5
        }
      ],
      "source": [
        "data = pd.read_csv(\"https://raw.githubusercontent.com/hse-ds/iad-intro-ds/master/2023/homeworks/hw07-trees/diabetes.csv\")\n",
        "print(f\"Dataset shape: {data.shape}\")\n",
        "data.head()"
      ]
    },
    {
      "cell_type": "markdown",
      "metadata": {
        "id": "nN2W3GaVvf98"
      },
      "source": [
        "Посмотрим на распределение целевой переменной"
      ]
    },
    {
      "cell_type": "code",
      "execution_count": null,
      "metadata": {
        "colab": {
          "base_uri": "https://localhost:8080/",
          "height": 430
        },
        "id": "lBn1BHp-vf9-",
        "outputId": "fc381633-a1f9-4133-9f0d-d0a621e6daf4"
      },
      "outputs": [
        {
          "data": {
            "image/png": "[encoded data removed]",
            "text/plain": [
              "<Figure size 640x480 with 1 Axes>"
            ]
          },
          "metadata": {},
          "output_type": "display_data"
        }
      ],
      "source": [
        "data['Outcome'].hist()\n",
        "plt.show()"
      ]
    },
    {
      "cell_type": "markdown",
      "metadata": {
        "id": "30GSYmkOvf9_"
      },
      "source": [
        "**Задание 3.1 (0.5 балла)** Разделите данные на признаки и целевую переменную. Разбейте датасет на обучающую и тестовую части в отношении 7:3. Затем разделите обучающую выборку на обучающую-обучающую и обучающую-валидационную в соотношении 7:3 (то есть в итоге должно получиться три выборки: обучающая-обучающая (0.49 от исходного датасета), обучающая-валидационная (0.21 от исходного датасета) и тестовая (0.3 от исходного датасета)."
      ]
    },
    {
      "cell_type": "code",
      "execution_count": null,
      "metadata": {
        "id": "brQ7ci_Ivf-A"
      },
      "outputs": [],
      "source": [
        "Diabet_Y = data.Outcome\n",
        "data_X = data.drop(['Outcome'], axis=1)\n",
        "\n",
        "X_train, X_test, y_train, y_test = train_test_split(\n",
        "    data_X, Diabet_Y, test_size=0.3, random_state=123)"
      ]
    },
    {
      "cell_type": "code",
      "execution_count": null,
      "metadata": {
        "id": "-8XT8GX1StjH"
      },
      "outputs": [],
      "source": [
        "X_train_train, X_train_val, y_train_train, y_train_val = train_test_split(\n",
        "    X_train, y_train, test_size=0.3, random_state=123)"
      ]
    },
    {
      "cell_type": "code",
      "execution_count": null,
      "metadata": {
        "colab": {
          "base_uri": "https://localhost:8080/"
        },
        "id": "uZQ1v21QTOMC",
        "outputId": "cfa74447-86ab-4ac3-fd49-1c39043874d3"
      },
      "outputs": [
        {
          "name": "stdout",
          "output_type": "stream",
          "text": [
            "0.48828125 0.2109375 0.48828125 0.2109375\n",
            "0.30078125 0.30078125\n"
          ]
        }
      ],
      "source": [
        "print(X_train_train.shape[0]/data.shape[0], X_train_val.shape[0]/data.shape[0],\n",
        "      y_train_train.shape[0]/data.shape[0], y_train_val.shape[0]/data.shape[0])\n",
        "print(X_test.shape[0]/data.shape[0], y_test.shape[0]/data.shape[0])"
      ]
    },
    {
      "cell_type": "markdown",
      "metadata": {
        "id": "MJ45qIw4vf-B"
      },
      "source": [
        "**Задание 3.2 (1 балл)** На обучающей-валидационной выборке подберите оптимальные значения гиперпараметров `max_depth` и `min_samples_leaf` для `DecisionTreeClassifier`. Для этого:\n",
        "1. Создайте списки с возможными значениями для перебора.\n",
        "2. Для каждой пары значений обучите дерево на обучающей-обучающей выборке и определите качество на обучающей-валидационной выборке. В качестве критерия будем использовать `f1-меру`.\n",
        "3. Выберите ту пару значений, которая даёт наилучшее качество на обучающей-валидационной выборке.\n",
        "\n",
        "\n",
        "Обучите решающее дерево с подобранными гиперпараметрами на **полной обучающей** выборке. Оцените качество классификации на тестовой выборке по метрикам `accuracy`, `precision` и `recall`, `auc_roc`."
      ]
    },
    {
      "cell_type": "code",
      "execution_count": null,
      "metadata": {
        "colab": {
          "base_uri": "https://localhost:8080/"
        },
        "id": "zI-A9oU4iRUp",
        "outputId": "534ea804-ad3e-49ce-8b49-ba6234d4aae5"
      },
      "outputs": [
        {
          "name": "stdout",
          "output_type": "stream",
          "text": [
            "max_depth: 5 min_samples_leaf: 1 f1-score: 0.5510204081632653\n",
            "max_depth: 5 min_samples_leaf: 5 f1-score: 0.5714285714285714\n",
            "max_depth: 5 min_samples_leaf: 10 f1-score: 0.5714285714285714\n",
            "max_depth: 5 min_samples_leaf: 20 f1-score: 0.6041666666666666\n",
            "max_depth: 10 min_samples_leaf: 1 f1-score: 0.5294117647058822\n",
            "max_depth: 10 min_samples_leaf: 5 f1-score: 0.5769230769230769\n",
            "max_depth: 10 min_samples_leaf: 10 f1-score: 0.6019417475728155\n",
            "max_depth: 10 min_samples_leaf: 20 f1-score: 0.6041666666666666\n",
            "max_depth: 30 min_samples_leaf: 1 f1-score: 0.5849056603773585\n",
            "max_depth: 30 min_samples_leaf: 5 f1-score: 0.5769230769230769\n",
            "max_depth: 30 min_samples_leaf: 10 f1-score: 0.6019417475728155\n",
            "max_depth: 30 min_samples_leaf: 20 f1-score: 0.6041666666666666\n",
            "max_depth: 50 min_samples_leaf: 1 f1-score: 0.5849056603773585\n",
            "max_depth: 50 min_samples_leaf: 5 f1-score: 0.5769230769230769\n",
            "max_depth: 50 min_samples_leaf: 10 f1-score: 0.6019417475728155\n",
            "max_depth: 50 min_samples_leaf: 20 f1-score: 0.6041666666666666\n"
          ]
        }
      ],
      "source": [
        "max_depth_list = [5, 10, 30, 50]\n",
        "min_samples_leaf_list = [1, 5, 10, 20]\n",
        "\n",
        "for max_depth in max_depth_list:\n",
        "  for min_samples_leaf in min_samples_leaf_list:\n",
        "     dt = DecisionTreeClassifier(max_depth=max_depth, min_samples_leaf=min_samples_leaf,\n",
        "                                 random_state=13)\n",
        "     dt.fit(X_train_train, y_train_train)\n",
        "     print(\"max_depth:\", max_depth, \"min_samples_leaf:\", min_samples_leaf, \"f1-score:\", f1_score(y_train_val, dt.predict(X_train_val) ))"
      ]
    },
    {
      "cell_type": "markdown",
      "metadata": {
        "id": "lqYt-srftVPZ"
      },
      "source": [
        "Выбранные гиперпараметры для DecisionTreeClassifier:\n",
        "- max_depth: **5**\n",
        "- min_samples_leaf: **20**\n",
        "- f1-score: **0.60**"
      ]
    },
    {
      "cell_type": "code",
      "execution_count": null,
      "metadata": {
        "colab": {
          "base_uri": "https://localhost:8080/"
        },
        "id": "nGgZwIhfvdB-",
        "outputId": "3fb170ae-2f10-4b1d-8ed3-d9a2cd72e3ff"
      },
      "outputs": [
        {
          "name": "stdout",
          "output_type": "stream",
          "text": [
            "Accuracy: 0.75\n",
            "Precision: 0.66\n",
            "Recall: 0.7\n",
            "AUC-ROC: 0.74\n"
          ]
        }
      ],
      "source": [
        "dt = DecisionTreeClassifier(max_depth=5, min_samples_leaf = 20, random_state=13)\n",
        "dt.fit(X_train, y_train)\n",
        "print(\"Accuracy:\", round(accuracy_score(y_test, dt.predict(X_test)), 2))\n",
        "print(\"Precision:\",  round(precision_score(y_test, dt.predict(X_test)), 2))\n",
        "print(\"Recall:\", round(recall_score(y_test, dt.predict(X_test)), 2))\n",
        "print(\"AUC-ROC:\", round(roc_auc_score(y_test, dt.predict(X_test)), 2))"
      ]
    },
    {
      "cell_type": "markdown",
      "metadata": {
        "id": "D2uHsbwnvf-o"
      },
      "source": [
        "**Задание 3.3 (0.5 балла)** Обучите [`BaggingClassifier`](https://scikit-learn.org/stable/modules/generated/sklearn.ensemble.BaggingClassifier.html) на 50 деревьях на **полной обучающей** выборке. Оцените качество классификации на тестовой выборке по тем же метрикам."
      ]
    },
    {
      "cell_type": "code",
      "execution_count": null,
      "metadata": {
        "id": "0rgtNOMNvf-p"
      },
      "outputs": [],
      "source": [
        "from sklearn.ensemble import BaggingRegressor"
      ]
    },
    {
      "cell_type": "code",
      "execution_count": null,
      "metadata": {
        "colab": {
          "base_uri": "https://localhost:8080/"
        },
        "id": "eYGtYwRQxTlY",
        "outputId": "2bf587c6-ee19-481a-8736-cc58e2e56235"
      },
      "outputs": [
        {
          "name": "stdout",
          "output_type": "stream",
          "text": [
            "Accuracy: 0.77\n",
            "Precision: 0.7\n",
            "Recall: 0.68\n",
            "AUC-ROC: 0.75\n"
          ]
        }
      ],
      "source": [
        "base_tree = DecisionTreeClassifier(random_state=123)\n",
        "bag = BaggingClassifier(base_tree, n_estimators=50)\n",
        "bag.fit(X_train, y_train)\n",
        "print(\"Accuracy:\", round(accuracy_score(y_test, bag.predict(X_test)), 2))\n",
        "print(\"Precision:\",  round(precision_score(y_test, bag.predict(X_test)), 2))\n",
        "print(\"Recall:\", round(recall_score(y_test, bag.predict(X_test)), 2))\n",
        "print(\"AUC-ROC:\", round(roc_auc_score(y_test, bag.predict(X_test)), 2))"
      ]
    },
    {
      "cell_type": "markdown",
      "metadata": {
        "id": "kIR2A3cevf-q"
      },
      "source": [
        "**Задание 3.4 (1 балл)** Выполните кросс-валидацию на полной обучающей выборке и подберите оптимальные значения гиперпараметров `max_depth` и `min_samples_split` для `Random Forest` с 50 деревьями. Для этого:\n",
        "\n",
        "1. Создайте списки с возможными значениями для перебора.\n",
        "2. Для каждой пары значений проведите кросс-валидацию на полной обучающей выборке. Количество разбиений выберите на ваш вкус. В качестве критерия будем использовать `f1-меру`. Усредните значение критерия по всем прогонам кросс-валидации.\n",
        "3. Выберите ту пару значений, которая даёт наилучшее среднее качество.\n",
        "\n",
        "Обучите случайный лес с подобранными гиперпараметрами на **полной обучающей** выборке. Оцените качество классификации по тем же метрикам. Какая из трёх построенных моделей показала себя лучше?"
      ]
    },
    {
      "cell_type": "code",
      "execution_count": null,
      "metadata": {
        "id": "2F-AT0I3CAWn"
      },
      "outputs": [],
      "source": [
        "from sklearn.ensemble import RandomForestClassifier\n",
        "from sklearn.model_selection import cross_val_score"
      ]
    },
    {
      "cell_type": "code",
      "execution_count": null,
      "metadata": {
        "id": "P8mG5wBz0XNe",
        "outputId": "70afeaf2-a0f4-4e9d-aee0-e80d0b60d7c9"
      },
      "outputs": [
        {
          "name": "stdout",
          "output_type": "stream",
          "text": [
            "[0.6148576639900349, 15, 10]\n"
          ]
        }
      ],
      "source": [
        "max_depth_list = [5, 8, 15, 20]\n",
        "min_samples_split_list = [3, 5, 7, 10]\n",
        "\n",
        "all_param = []\n",
        "\n",
        "for max_depth in max_depth_list:\n",
        "    for min_samples_split in min_samples_split_list:\n",
        "        clf = RandomForestClassifier(n_estimators=50, max_depth=max_depth,\n",
        "                                     min_samples_split=min_samples_split, random_state = 12)\n",
        "        f1_scores = cross_val_score(clf, X_train, y_train, cv=5, scoring='f1')\n",
        "        f1_scores_mean = np.mean(f1_scores)\n",
        "        all_param.append([f1_scores_mean, max_depth, min_samples_split])\n",
        "\n",
        "print(sorted(all_param, reverse = True)[0])"
      ]
    },
    {
      "cell_type": "markdown",
      "metadata": {
        "id": "zERW7Y490XNf"
      },
      "source": [
        "Random Forest:\n",
        "- max_depth = 15\n",
        "- min_samples_split = 10\n",
        "- f1-score ≈ 0,61"
      ]
    },
    {
      "cell_type": "code",
      "execution_count": null,
      "metadata": {
        "id": "Za_Ys1wR0XNf",
        "outputId": "bb783d0c-aad7-489c-d7ea-e14e0f5e5b07"
      },
      "outputs": [
        {
          "name": "stdout",
          "output_type": "stream",
          "text": [
            "Accuracy: 0.78\n",
            "Precision: 0.72\n",
            "Recall: 0.68\n",
            "AUC-ROC: 0.76\n"
          ]
        }
      ],
      "source": [
        "rf = RandomForestClassifier(n_estimators=50, max_depth=15, min_samples_split = 10, random_state=12)\n",
        "rf.fit(X_train, y_train)\n",
        "print(\"Accuracy:\", round(accuracy_score(y_test, rf.predict(X_test)), 2))\n",
        "print(\"Precision:\",  round(precision_score(y_test, rf.predict(X_test)), 2))\n",
        "print(\"Recall:\", round(recall_score(y_test, rf.predict(X_test)), 2))\n",
        "print(\"AUC-ROC:\", round(roc_auc_score(y_test, rf.predict(X_test)), 2))"
      ]
    },
    {
      "cell_type": "markdown",
      "metadata": {
        "id": "QTMUbHVq0XNf"
      },
      "source": [
        "Какая из трёх построенных моделей показала себя лучше?\n",
        "- лучше всего себя показала модель номер 3, Random Forest\n",
        "- преимущественно опираясь на значение метрики AUC-ROC, можно сказать, что данная модель ближе всего к идеальному классификатору"
      ]
    },
    {
      "cell_type": "markdown",
      "metadata": {
        "id": "HrD4GmcZvf-t"
      },
      "source": [
        "**Задание 3.5 (0.5 балла)** Постройте график зависимости AUC ROC на тестовой выборке от числа деревьев (`n_estimators`) для случайного леса, обучаемого на **полной обучающей** выборке. Какие выводы можно сделать?"
      ]
    },
    {
      "cell_type": "code",
      "execution_count": null,
      "metadata": {
        "id": "TI6qp7Zyvf-u",
        "outputId": "3a815899-59bb-4feb-e850-8baebc3a7a6c"
      },
      "outputs": [
        {
          "data": {
            "text/plain": [
              "Text(0.5, 0, 'n_estimators')"
            ]
          },
          "execution_count": 88,
          "metadata": {},
          "output_type": "execute_result"
        },
        {
          "data": {
            "image/png": "[encoded data removed]",
            "text/plain": [
              "<Figure size 2000x1000 with 1 Axes>"
            ]
          },
          "metadata": {},
          "output_type": "display_data"
        }
      ],
      "source": [
        "auc_roc = []\n",
        "for i in range(10, 800):\n",
        "    rf = RandomForestClassifier(n_estimators = i, max_depth=15, min_samples_split = 10, random_state=12)\n",
        "    rf.fit(X_train, y_train)\n",
        "    auc_roc_sample = roc_auc_score(y_test, rf.predict(X_test))\n",
        "    auc_roc.append(auc_roc_sample)\n",
        "\n",
        "plt.figure(figsize=(20, 10))\n",
        "plt.title(\"Зависимость AUC-ROC на тестовой выборке от числа деревьев \")\n",
        "plt.plot(auc_roc)\n",
        "plt.ylabel(\"AUC-ROC\")\n",
        "plt.xlabel(\"n_estimators\")"
      ]
    },
    {
      "cell_type": "markdown",
      "metadata": {
        "id": "6wpa0R0p0XNf"
      },
      "source": [
        "Какие выводы можно сделать?\n",
        "- по графику видно, что с увеличением числа деревье значение AUC-ROC постепенно выходит на асимптоту, AUC-ROC не сокращается => данное наблюдение можно отнести к преимуществам Random Forest (нет склонности к переобучению)"
      ]
    },
    {
      "cell_type": "markdown",
      "metadata": {
        "id": "-VlltcNvvf-v"
      },
      "source": [
        "**Задание 3.6 (0.5 балла)** Для лучшей модели случайного леса из **Задания 3.4** посчитайте важность признаков и постройте bar plot. Какой признак оказался самым важным для определения диабета?"
      ]
    },
    {
      "cell_type": "code",
      "execution_count": null,
      "metadata": {
        "id": "PRlPgQHq0XNg",
        "outputId": "e758dd74-c2cf-4f63-85ca-c6bddd8cb83d"
      },
      "outputs": [
        {
          "data": {
            "text/html": [
              "<div>\n",
              "<style scoped>\n",
              "    .dataframe tbody tr th:only-of-type {\n",
              "        vertical-align: middle;\n",
              "    }\n",
              "\n",
              "    .dataframe tbody tr th {\n",
              "        vertical-align: top;\n",
              "    }\n",
              "\n",
              "    .dataframe thead th {\n",
              "        text-align: right;\n",
              "    }\n",
              "</style>\n",
              "<table border=\"1\" class=\"dataframe\">\n",
              "  <thead>\n",
              "    <tr style=\"text-align: right;\">\n",
              "      <th></th>\n",
              "      <th>Feature</th>\n",
              "      <th>Importance</th>\n",
              "    </tr>\n",
              "  </thead>\n",
              "  <tbody>\n",
              "    <tr>\n",
              "      <th>0</th>\n",
              "      <td>Pregnancies</td>\n",
              "      <td>0.075985</td>\n",
              "    </tr>\n",
              "    <tr>\n",
              "      <th>1</th>\n",
              "      <td>Glucose</td>\n",
              "      <td>0.257153</td>\n",
              "    </tr>\n",
              "    <tr>\n",
              "      <th>2</th>\n",
              "      <td>BloodPressure</td>\n",
              "      <td>0.074429</td>\n",
              "    </tr>\n",
              "    <tr>\n",
              "      <th>3</th>\n",
              "      <td>SkinThickness</td>\n",
              "      <td>0.067003</td>\n",
              "    </tr>\n",
              "    <tr>\n",
              "      <th>4</th>\n",
              "      <td>Insulin</td>\n",
              "      <td>0.081363</td>\n",
              "    </tr>\n",
              "    <tr>\n",
              "      <th>5</th>\n",
              "      <td>BMI</td>\n",
              "      <td>0.191432</td>\n",
              "    </tr>\n",
              "    <tr>\n",
              "      <th>6</th>\n",
              "      <td>DiabetesPedigreeFunction</td>\n",
              "      <td>0.109336</td>\n",
              "    </tr>\n",
              "    <tr>\n",
              "      <th>7</th>\n",
              "      <td>Age</td>\n",
              "      <td>0.143298</td>\n",
              "    </tr>\n",
              "  </tbody>\n",
              "</table>\n",
              "</div>"
            ],
            "text/plain": [
              "                    Feature  Importance\n",
              "0               Pregnancies    0.075985\n",
              "1                   Glucose    0.257153\n",
              "2             BloodPressure    0.074429\n",
              "3             SkinThickness    0.067003\n",
              "4                   Insulin    0.081363\n",
              "5                       BMI    0.191432\n",
              "6  DiabetesPedigreeFunction    0.109336\n",
              "7                       Age    0.143298"
            ]
          },
          "execution_count": 142,
          "metadata": {},
          "output_type": "execute_result"
        }
      ],
      "source": [
        "important_features = pd.DataFrame({\"Feature\" : rf.feature_names_in_,\n",
        "                                   \"Importance\" : rf.feature_importances_})\n",
        "important_features"
      ]
    },
    {
      "cell_type": "markdown",
      "metadata": {
        "id": "rKMJWl1q0XNg"
      },
      "source": [
        " Какой признак оказался самым важным для определения диабета?\n",
        " - самым  важным оказался признак \"Glucose\""
      ]
    },
    {
      "cell_type": "code",
      "execution_count": null,
      "metadata": {
        "id": "UQUw5rkl0XNg",
        "outputId": "c908c62c-a8e1-43f3-82e2-3cdd249e0429"
      },
      "outputs": [
        {
          "data": {
            "image/png": "[encoded data removed]",
            "text/plain": [
              "<Figure size 640x480 with 1 Axes>"
            ]
          },
          "metadata": {},
          "output_type": "display_data"
        }
      ],
      "source": [
        "features_image = sns.barplot(x = important_features[\"Importance\"],\n",
        "                y = important_features[\"Feature\"])\n",
        "sns.despine(bottom=True, left=True)\n",
        "for value in features_image.containers:\n",
        "    features_image.bar_label(value)"
      ]
    }
  ],
  "metadata": {
    "colab": {
      "provenance": []
    },
    "kernelspec": {
      "display_name": "Python 3 (ipykernel)",
      "language": "python",
      "name": "python3"
    },
    "language_info": {
      "codemirror_mode": {
        "name": "ipython",
        "version": 3
      },
      "file_extension": ".py",
      "mimetype": "text/x-python",
      "name": "python",
      "nbconvert_exporter": "python",
      "pygments_lexer": "ipython3",
      "version": "3.9.13"
    }
  },
  "nbformat": 4,
  "nbformat_minor": 0
}